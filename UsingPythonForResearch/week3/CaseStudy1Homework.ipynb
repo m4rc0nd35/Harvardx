{
  "nbformat": 4,
  "nbformat_minor": 0,
  "metadata": {
    "colab": {
      "name": "CaseStudy1Homework.ipynb",
      "provenance": [],
      "authorship_tag": "ABX9TyOJlIf4INM+KNccRg8Q0L0E",
      "include_colab_link": true
    },
    "kernelspec": {
      "name": "python3",
      "display_name": "Python 3"
    }
  },
  "cells": [
    {
      "cell_type": "markdown",
      "metadata": {
        "id": "view-in-github",
        "colab_type": "text"
      },
      "source": [
        "<a href=\"https://colab.research.google.com/github/vini1lol/Havardx/blob/master/CaseStudy1Homework.ipynb\" target=\"_parent\"><img src=\"https://colab.research.google.com/assets/colab-badge.svg\" alt=\"Open In Colab\"/></a>"
      ]
    },
    {
      "cell_type": "markdown",
      "metadata": {
        "id": "wLIrpYXvdN3s",
        "colab_type": "text"
      },
      "source": [
        "#1"
      ]
    },
    {
      "cell_type": "code",
      "metadata": {
        "id": "AhonqptycYmA",
        "colab_type": "code",
        "colab": {
          "base_uri": "https://localhost:8080/",
          "height": 34
        },
        "outputId": "2129dc23-00e0-4eb8-bb7c-c3ba49e54be5"
      },
      "source": [
        "import string\n",
        "alphabet = \" \"+string.ascii_lowercase\n",
        "alphabet"
      ],
      "execution_count": 6,
      "outputs": [
        {
          "output_type": "execute_result",
          "data": {
            "text/plain": [
              "' abcdefghijklmnopqrstuvwxyz'"
            ]
          },
          "metadata": {
            "tags": []
          },
          "execution_count": 6
        }
      ]
    },
    {
      "cell_type": "markdown",
      "metadata": {
        "id": "BVsoT12odUkn",
        "colab_type": "text"
      },
      "source": [
        "#2"
      ]
    },
    {
      "cell_type": "code",
      "metadata": {
        "id": "q9oxvT3_c7Wv",
        "colab_type": "code",
        "colab": {}
      },
      "source": [
        "positions = {alphabet[i]:i for i in range(0,27)}"
      ],
      "execution_count": 0,
      "outputs": []
    },
    {
      "cell_type": "code",
      "metadata": {
        "id": "KfHinZxdd38g",
        "colab_type": "code",
        "colab": {
          "base_uri": "https://localhost:8080/",
          "height": 34
        },
        "outputId": "8a0d1750-4531-4a89-e066-86489fb06012"
      },
      "source": [
        "positions['n']"
      ],
      "execution_count": 13,
      "outputs": [
        {
          "output_type": "execute_result",
          "data": {
            "text/plain": [
              "14"
            ]
          },
          "metadata": {
            "tags": []
          },
          "execution_count": 13
        }
      ]
    },
    {
      "cell_type": "markdown",
      "metadata": {
        "id": "CdLy9BHye9JN",
        "colab_type": "text"
      },
      "source": [
        "#3"
      ]
    },
    {
      "cell_type": "code",
      "metadata": {
        "id": "FuuVUHmse_Ko",
        "colab_type": "code",
        "colab": {}
      },
      "source": [
        "message = \"hi my name is caesar\""
      ],
      "execution_count": 0,
      "outputs": []
    },
    {
      "cell_type": "code",
      "metadata": {
        "id": "K1eMvC2wfYZN",
        "colab_type": "code",
        "colab": {
          "base_uri": "https://localhost:8080/",
          "height": 34
        },
        "outputId": "7cee220a-362a-4761-b627-5f60c10f0b4c"
      },
      "source": [
        "encoded_message =\"\"\n",
        "for m in message:\n",
        "  pos = positions[m]\n",
        "  new_pos = pos+1\n",
        "  new_pos = new_pos % 27\n",
        "  onekey = [key for (key,Value) in positions.items() if Value == new_pos]\n",
        "  onekey = ''.join(onekey)\n",
        "  encoded_message += onekey\n",
        "encoded_message"
      ],
      "execution_count": 19,
      "outputs": [
        {
          "output_type": "execute_result",
          "data": {
            "text/plain": [
              "'ijanzaobnfajtadbftbs'"
            ]
          },
          "metadata": {
            "tags": []
          },
          "execution_count": 19
        }
      ]
    },
    {
      "cell_type": "markdown",
      "metadata": {
        "id": "SyPLXUbJi_4H",
        "colab_type": "text"
      },
      "source": [
        "#4"
      ]
    },
    {
      "cell_type": "code",
      "metadata": {
        "id": "mVho3pO9jB1l",
        "colab_type": "code",
        "colab": {}
      },
      "source": [
        "def encoding(message,key):\n",
        "  encoded_message=\"\"\n",
        "  alphabet= \" \"+string.ascii_lowercase\n",
        "  positions = {alphabet[i]:i for i in range(0,27)}\n",
        "  for m in message:\n",
        "    pos = positions[m]\n",
        "    new_pos = pos+key\n",
        "    new_pos = new_pos % 27\n",
        "    onekey = [key for (key,Value) in positions.items() if Value == new_pos]\n",
        "    onekey = ''.join(onekey)\n",
        "    encoded_message += onekey\n",
        "  return encoded_message\n"
      ],
      "execution_count": 0,
      "outputs": []
    },
    {
      "cell_type": "code",
      "metadata": {
        "id": "a84N6t4PluQm",
        "colab_type": "code",
        "colab": {
          "base_uri": "https://localhost:8080/",
          "height": 34
        },
        "outputId": "0c9b1de6-4a8e-4051-aa1d-8f559bedc841"
      },
      "source": [
        "encoded_message =encoding(message,3)\n",
        "encoded_message"
      ],
      "execution_count": 28,
      "outputs": [
        {
          "output_type": "execute_result",
          "data": {
            "text/plain": [
              "'klcpacqdphclvcfdhvdu'"
            ]
          },
          "metadata": {
            "tags": []
          },
          "execution_count": 28
        }
      ]
    },
    {
      "cell_type": "markdown",
      "metadata": {
        "id": "BTQ3dC7Mi_-t",
        "colab_type": "text"
      },
      "source": [
        "#5"
      ]
    },
    {
      "cell_type": "code",
      "metadata": {
        "id": "cUMKqAWIjEUL",
        "colab_type": "code",
        "colab": {
          "base_uri": "https://localhost:8080/",
          "height": 34
        },
        "outputId": "2d17669c-09b8-4b94-dffb-4dacc06fc251"
      },
      "source": [
        "decoded_menssage=encoding(encoded_message,-3)\n",
        "decoded_menssage"
      ],
      "execution_count": 29,
      "outputs": [
        {
          "output_type": "execute_result",
          "data": {
            "text/plain": [
              "'hi my name is caesar'"
            ]
          },
          "metadata": {
            "tags": []
          },
          "execution_count": 29
        }
      ]
    }
  ]
}