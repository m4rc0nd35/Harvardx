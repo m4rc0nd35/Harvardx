{
  "nbformat": 4,
  "nbformat_minor": 0,
  "metadata": {
    "colab": {
      "name": "CaseStudy2.ipynb",
      "provenance": [],
      "mount_file_id": "19TXNmVqNTtP-Hx-tuxhkPfnLVFku9Ze_",
      "authorship_tag": "ABX9TyO3NujMOmA/P/WxQmGdMofB",
      "include_colab_link": true
    },
    "kernelspec": {
      "name": "python3",
      "display_name": "Python 3"
    }
  },
  "cells": [
    {
      "cell_type": "markdown",
      "metadata": {
        "id": "view-in-github",
        "colab_type": "text"
      },
      "source": [
        "<a href=\"https://colab.research.google.com/github/vini1lol/Havardx/blob/master/CaseStudy2.ipynb\" target=\"_parent\"><img src=\"https://colab.research.google.com/assets/colab-badge.svg\" alt=\"Open In Colab\"/></a>"
      ]
    },
    {
      "cell_type": "code",
      "metadata": {
        "id": "4yIB99LtpW8W",
        "colab_type": "code",
        "colab": {}
      },
      "source": [
        "text = \"this is my teste text. We are keeping this text short to keep things manageable\""
      ],
      "execution_count": 0,
      "outputs": []
    },
    {
      "cell_type": "code",
      "metadata": {
        "id": "nljgb97Gpu2-",
        "colab_type": "code",
        "colab": {}
      },
      "source": [
        "def count_words(text):\n",
        "  \"\"\"\n",
        "  Count the number of time each word occurs in text(str). Return a dictionary where\n",
        "  key are unique word and values are word counts. Skip pontuation\n",
        "  \"\"\"\n",
        "  text = text.lower()\n",
        "  skips =[\",\",\".\",\";\",\":\",\"'\",'\"']\n",
        "  for ch in skips:\n",
        "    text = text.replace(ch,'')\n",
        "  word_counts ={}\n",
        "  for word in text.split(\" \"):\n",
        "    if word in word_counts:\n",
        "      word_counts[word] += 1\n",
        "    else:\n",
        "      word_counts[word] = 1\n",
        "  return word_counts"
      ],
      "execution_count": 0,
      "outputs": []
    },
    {
      "cell_type": "code",
      "metadata": {
        "id": "EC-LaSKmrfDk",
        "colab_type": "code",
        "colab": {
          "base_uri": "https://localhost:8080/",
          "height": 238
        },
        "outputId": "3159980e-1d14-4005-abd4-571adeff1cc7"
      },
      "source": [
        "count_words(text)"
      ],
      "execution_count": 6,
      "outputs": [
        {
          "output_type": "execute_result",
          "data": {
            "text/plain": [
              "{'are': 1,\n",
              " 'is': 1,\n",
              " 'keep': 1,\n",
              " 'keeping': 1,\n",
              " 'manageable': 1,\n",
              " 'my': 1,\n",
              " 'short': 1,\n",
              " 'teste': 1,\n",
              " 'text': 2,\n",
              " 'things': 1,\n",
              " 'this': 2,\n",
              " 'to': 1,\n",
              " 'we': 1}"
            ]
          },
          "metadata": {
            "tags": []
          },
          "execution_count": 6
        }
      ]
    },
    {
      "cell_type": "code",
      "metadata": {
        "id": "TtT_UmCerm7r",
        "colab_type": "code",
        "colab": {}
      },
      "source": [
        "from collections import Counter"
      ],
      "execution_count": 0,
      "outputs": []
    },
    {
      "cell_type": "code",
      "metadata": {
        "id": "F1ETCw7WtAU1",
        "colab_type": "code",
        "colab": {}
      },
      "source": [
        "def count_words_fast(text):\n",
        "  \"\"\"\n",
        "  Count the number of time each word occurs in text(str). Return a dictionary where\n",
        "  key are unique word and values are word counts. Skip pontuation\n",
        "  \"\"\"\n",
        "  text = text.lower()\n",
        "  skips =[\",\",\".\",\";\",\":\",\"'\",'\"']\n",
        "  for ch in skips:\n",
        "    text = text.replace(ch,'')\n",
        "  word_counts =Counter(text.split(\" \"))\n",
        "  return word_counts"
      ],
      "execution_count": 0,
      "outputs": []
    },
    {
      "cell_type": "code",
      "metadata": {
        "id": "OT1YGIDPte25",
        "colab_type": "code",
        "colab": {
          "base_uri": "https://localhost:8080/",
          "height": 238
        },
        "outputId": "6c7075b3-31d0-4b58-997d-5a8ca218eefc"
      },
      "source": [
        "count_words_fast(text)"
      ],
      "execution_count": 9,
      "outputs": [
        {
          "output_type": "execute_result",
          "data": {
            "text/plain": [
              "Counter({'are': 1,\n",
              "         'is': 1,\n",
              "         'keep': 1,\n",
              "         'keeping': 1,\n",
              "         'manageable': 1,\n",
              "         'my': 1,\n",
              "         'short': 1,\n",
              "         'teste': 1,\n",
              "         'text': 2,\n",
              "         'things': 1,\n",
              "         'this': 2,\n",
              "         'to': 1,\n",
              "         'we': 1})"
            ]
          },
          "metadata": {
            "tags": []
          },
          "execution_count": 9
        }
      ]
    },
    {
      "cell_type": "code",
      "metadata": {
        "id": "C6vKQCrqtgvc",
        "colab_type": "code",
        "colab": {
          "base_uri": "https://localhost:8080/",
          "height": 34
        },
        "outputId": "3b5b22fb-a9e6-44d4-c8f9-956d88ee11fd"
      },
      "source": [
        "count_words(text) is count_words_fast(text)"
      ],
      "execution_count": 10,
      "outputs": [
        {
          "output_type": "execute_result",
          "data": {
            "text/plain": [
              "False"
            ]
          },
          "metadata": {
            "tags": []
          },
          "execution_count": 10
        }
      ]
    },
    {
      "cell_type": "code",
      "metadata": {
        "id": "KggXXq4luDwZ",
        "colab_type": "code",
        "colab": {}
      },
      "source": [
        "def read_book(title_path):\n",
        "  \"\"\"\n",
        "  Read a book and return it as a string\n",
        "  \"\"\"\n",
        "  with open(title_path,\"r\",encoding=\"utf8\") as current_file:\n",
        "    text = current_file.read()\n",
        "    text = text.replace(\"\\n\",\"\").replace(\"\\r\",\"\") \n",
        "  return text\n",
        "  \n"
      ],
      "execution_count": 0,
      "outputs": []
    },
    {
      "cell_type": "code",
      "metadata": {
        "id": "FHYahTyYwAiZ",
        "colab_type": "code",
        "colab": {}
      },
      "source": [
        "text = read_book(\"/content/drive/My Drive/havardx/Using Python for Research/week 3/Os Maias.txt\")"
      ],
      "execution_count": 0,
      "outputs": []
    },
    {
      "cell_type": "code",
      "metadata": {
        "id": "nqHllgitwyVI",
        "colab_type": "code",
        "colab": {
          "base_uri": "https://localhost:8080/",
          "height": 34
        },
        "outputId": "6deaf569-8e70-40b6-e555-adb3cccfe66d"
      },
      "source": [
        "len(text)"
      ],
      "execution_count": 14,
      "outputs": [
        {
          "output_type": "execute_result",
          "data": {
            "text/plain": [
              "1283905"
            ]
          },
          "metadata": {
            "tags": []
          },
          "execution_count": 14
        }
      ]
    },
    {
      "cell_type": "code",
      "metadata": {
        "id": "LqHR9G8Aw6PB",
        "colab_type": "code",
        "colab": {
          "base_uri": "https://localhost:8080/",
          "height": 34
        },
        "outputId": "d92cdf8f-46ef-4181-eb7f-7ca78452016c"
      },
      "source": [
        "ind = text.find('fila de janellinhas abrigadas á beira do telhado')\n",
        "ind"
      ],
      "execution_count": 15,
      "outputs": [
        {
          "output_type": "execute_result",
          "data": {
            "text/plain": [
              "2451"
            ]
          },
          "metadata": {
            "tags": []
          },
          "execution_count": 15
        }
      ]
    },
    {
      "cell_type": "code",
      "metadata": {
        "id": "LlD7pcqmxKU5",
        "colab_type": "code",
        "colab": {
          "base_uri": "https://localhost:8080/",
          "height": 54
        },
        "outputId": "f6375309-cde7-48bf-eced-19ff0c712cec"
      },
      "source": [
        "sample = text[ind:ind+1000]\n",
        "sample"
      ],
      "execution_count": 17,
      "outputs": [
        {
          "output_type": "execute_result",
          "data": {
            "text/plain": [
              "\"fila de janellinhas abrigadas á beira do telhado, tinha o aspectotristonho de Residencia Ecclesiastica que competia a uma edificação doreinado da sr.^a D. Maria I: com uma sineta e com uma cruz no topoassimilhar-se-hia a um Collegio de Jesuitas. O nome de Ramalheteprovinha de certo d'um revestimento quadrado de azulejos fazendo painelno logar heraldico do Escudo d'Armas, que nunca chegara a ser collocado,e representando um grande ramo de girasoes atado por uma fita onde sedistinguiam letras e numeros d'uma data.Longos annos o Ramalhete permanecera deshabitado, com teias d'aranhapelas grades dos postigos terreos, e cobrindo-se de tons de ruina. Em1858 Monsenhor Buccarini, Nuncio de S. Santidade, visitara-o com idéad'installar lá a Nunciatura, seduzido pela gravidade clerical doedificio e pela paz dormente do bairro: e o interior do casarãoagradara-lhe tambem, com a sua disposição apalaçada, os tectosapainelados, as paredes cobertas de _frescos_ onde já desmaiavam asrosas das grinaldas e\""
            ]
          },
          "metadata": {
            "tags": []
          },
          "execution_count": 17
        }
      ]
    },
    {
      "cell_type": "code",
      "metadata": {
        "id": "6kC4YO00xO63",
        "colab_type": "code",
        "colab": {}
      },
      "source": [
        "def word_stats(word_counts):\n",
        "  num_unique = len(word_counts)\n",
        "  counts = word_counts.values()\n",
        "  return (num_unique,counts)"
      ],
      "execution_count": 0,
      "outputs": []
    },
    {
      "cell_type": "code",
      "metadata": {
        "id": "334drWf3x3tv",
        "colab_type": "code",
        "colab": {}
      },
      "source": [
        "word_counts = count_words_fast(text)\n",
        "(num_unique,counts)=word_stats(word_counts)"
      ],
      "execution_count": 0,
      "outputs": []
    },
    {
      "cell_type": "code",
      "metadata": {
        "id": "tFr9esnFyPrx",
        "colab_type": "code",
        "colab": {
          "base_uri": "https://localhost:8080/",
          "height": 34
        },
        "outputId": "e0366575-a1e1-4b40-9568-1a356c88acf9"
      },
      "source": [
        "num_unique"
      ],
      "execution_count": 20,
      "outputs": [
        {
          "output_type": "execute_result",
          "data": {
            "text/plain": [
              "40665"
            ]
          },
          "metadata": {
            "tags": []
          },
          "execution_count": 20
        }
      ]
    },
    {
      "cell_type": "code",
      "metadata": {
        "id": "rVPO9NAWyQts",
        "colab_type": "code",
        "colab": {
          "base_uri": "https://localhost:8080/",
          "height": 34
        },
        "outputId": "bbdf9c92-85bd-4b1d-88df-5245cbe0e0ae"
      },
      "source": [
        "sum(counts)"
      ],
      "execution_count": 21,
      "outputs": [
        {
          "output_type": "execute_result",
          "data": {
            "text/plain": [
              "195771"
            ]
          },
          "metadata": {
            "tags": []
          },
          "execution_count": 21
        }
      ]
    },
    {
      "cell_type": "code",
      "metadata": {
        "id": "rWaOfmh7ySUt",
        "colab_type": "code",
        "colab": {}
      },
      "source": [
        "import os\n",
        "import pandas as pd"
      ],
      "execution_count": 0,
      "outputs": []
    },
    {
      "cell_type": "code",
      "metadata": {
        "id": "sPbE022f1pPn",
        "colab_type": "code",
        "colab": {
          "base_uri": "https://localhost:8080/",
          "height": 136
        },
        "outputId": "4600182f-e715-4540-c62c-b7eeaa8ad61a"
      },
      "source": [
        "os.listdir(\"/content/drive/My Drive/havardx/Using Python for Research/week 3\")"
      ],
      "execution_count": 26,
      "outputs": [
        {
          "output_type": "execute_result",
          "data": {
            "text/plain": [
              "['Os Maias.txt',\n",
              " 'DNA.txt',\n",
              " 'protein.txt',\n",
              " 'DNA.ipynb',\n",
              " 'CaseStudy1Homework.ipynb',\n",
              " 'CaseStudy2.ipynb',\n",
              " 'Books_GerPort']"
            ]
          },
          "metadata": {
            "tags": []
          },
          "execution_count": 26
        }
      ]
    },
    {
      "cell_type": "code",
      "metadata": {
        "id": "019H3ysM10Pb",
        "colab_type": "code",
        "colab": {
          "base_uri": "https://localhost:8080/",
          "height": 1000
        },
        "outputId": "2f846f2d-62c6-40c0-f54f-2eac8aed4027"
      },
      "source": [
        "book_dir = \"/content/drive/My Drive/havardx/Using Python for Research/week 3/Books_GerPort\"\n",
        "stats = pd.DataFrame(columns=[\"language\",\"author\",\"title\",\"length\",\"unique\"])\n",
        "title_num = 1\n",
        "for language in os.listdir(book_dir):\n",
        "  for author in os.listdir(book_dir+\"/\"+language):\n",
        "    for title in os.listdir(book_dir+\"/\"+language+\"/\"+author):\n",
        "      inputfile = book_dir+\"/\"+language+\"/\"+author+\"/\"+title\n",
        "      print(inputfile)\n",
        "      text = read_book(inputfile)\n",
        "      (num_unique,counts) = word_stats(count_words_fast(text))\n",
        "      stats.loc[title_num]= language,author.capitalize(),title.replace(\".txt\",\"\"),sum(counts),num_unique\n",
        "      title_num += 1"
      ],
      "execution_count": 31,
      "outputs": [
        {
          "output_type": "stream",
          "text": [
            "/content/drive/My Drive/havardx/Using Python for Research/week 3/Books_GerPort/Portuguese/branco/Livro de Consolação.txt\n",
            "/content/drive/My Drive/havardx/Using Python for Research/week 3/Books_GerPort/Portuguese/branco/Lagrimas Abenáoadas.txt\n",
            "/content/drive/My Drive/havardx/Using Python for Research/week 3/Books_GerPort/Portuguese/branco/Scenas Contemporaneas.txt\n",
            "/content/drive/My Drive/havardx/Using Python for Research/week 3/Books_GerPort/Portuguese/branco/O Regicida.txt\n",
            "/content/drive/My Drive/havardx/Using Python for Research/week 3/Books_GerPort/Portuguese/branco/O que fazem mulheres.txt\n",
            "/content/drive/My Drive/havardx/Using Python for Research/week 3/Books_GerPort/Portuguese/branco/O Olho de Vidro.txt\n",
            "/content/drive/My Drive/havardx/Using Python for Research/week 3/Books_GerPort/Portuguese/branco/Amor de Salvação.txt\n",
            "/content/drive/My Drive/havardx/Using Python for Research/week 3/Books_GerPort/Portuguese/branco/Estrellas Prop°cias.txt\n",
            "/content/drive/My Drive/havardx/Using Python for Research/week 3/Books_GerPort/Portuguese/branco/Annos de Prosa.txt\n",
            "/content/drive/My Drive/havardx/Using Python for Research/week 3/Books_GerPort/Portuguese/branco/Amor de Perdição.txt\n",
            "/content/drive/My Drive/havardx/Using Python for Research/week 3/Books_GerPort/Portuguese/branco/A Filha do Arcediago.txt\n",
            "/content/drive/My Drive/havardx/Using Python for Research/week 3/Books_GerPort/Portuguese/branco/Estrellas Funestas.txt\n",
            "/content/drive/My Drive/havardx/Using Python for Research/week 3/Books_GerPort/Portuguese/branco/Carlota Angela.txt\n",
            "/content/drive/My Drive/havardx/Using Python for Research/week 3/Books_GerPort/Portuguese/branco/A Queda d'um Anjo.txt\n",
            "/content/drive/My Drive/havardx/Using Python for Research/week 3/Books_GerPort/Portuguese/branco/A Neta do Arcediago.txt\n",
            "/content/drive/My Drive/havardx/Using Python for Research/week 3/Books_GerPort/Portuguese/branco/Agulha em Palheiro.txt\n",
            "/content/drive/My Drive/havardx/Using Python for Research/week 3/Books_GerPort/Portuguese/dinis/Os fidalgos da Casa Mourisca.txt\n",
            "/content/drive/My Drive/havardx/Using Python for Research/week 3/Books_GerPort/Portuguese/dinis/A Morgadinha dos Cannaviaes.txt\n",
            "/content/drive/My Drive/havardx/Using Python for Research/week 3/Books_GerPort/Portuguese/dinis/Uma fam°lia ingleza.txt\n",
            "/content/drive/My Drive/havardx/Using Python for Research/week 3/Books_GerPort/Portuguese/Queir¢s/Os Maias.txt\n",
            "/content/drive/My Drive/havardx/Using Python for Research/week 3/Books_GerPort/Portuguese/Queir¢s/Cartas de Inglaterra.txt\n",
            "/content/drive/My Drive/havardx/Using Python for Research/week 3/Books_GerPort/Portuguese/Queir¢s/O Mandarim.txt\n",
            "/content/drive/My Drive/havardx/Using Python for Research/week 3/Books_GerPort/Portuguese/Queir¢s/O crime do padre Amaro.txt\n",
            "/content/drive/My Drive/havardx/Using Python for Research/week 3/Books_GerPort/Portuguese/Queir¢s/O Primo Bazilio.txt\n",
            "/content/drive/My Drive/havardx/Using Python for Research/week 3/Books_GerPort/Portuguese/Queir¢s/A Rel°quia.txt\n",
            "/content/drive/My Drive/havardx/Using Python for Research/week 3/Books_GerPort/Portuguese/Queir¢s/A Illustre Casa de Ramires.txt\n",
            "/content/drive/My Drive/havardx/Using Python for Research/week 3/Books_GerPort/Portuguese/Queir¢s/A correspondància de Fradique Mendes.txt\n",
            "/content/drive/My Drive/havardx/Using Python for Research/week 3/Books_GerPort/Portuguese/Queir¢s/A Cidade e as Serras.txt\n",
            "/content/drive/My Drive/havardx/Using Python for Research/week 3/Books_GerPort/Portuguese/shakespeare/Hamlet.txt\n",
            "/content/drive/My Drive/havardx/Using Python for Research/week 3/Books_GerPort/German/schiller/Die Verschwîrung des Fiesco zu Genua.txt\n",
            "/content/drive/My Drive/havardx/Using Python for Research/week 3/Books_GerPort/German/schiller/Wallensteins Tod.txt\n",
            "/content/drive/My Drive/havardx/Using Python for Research/week 3/Books_GerPort/German/schiller/Der Parasit, oder die Kunst, sein GlÅck zu machen.txt\n",
            "/content/drive/My Drive/havardx/Using Python for Research/week 3/Books_GerPort/German/schiller/Kabale und Liebe.txt\n",
            "/content/drive/My Drive/havardx/Using Python for Research/week 3/Books_GerPort/German/schiller/Wallensteins Lager.txt\n",
            "/content/drive/My Drive/havardx/Using Python for Research/week 3/Books_GerPort/German/schiller/Die Huldigung der KÅnste.txt\n",
            "/content/drive/My Drive/havardx/Using Python for Research/week 3/Books_GerPort/German/schiller/Turandot, Prinzessin von China.txt\n",
            "/content/drive/My Drive/havardx/Using Python for Research/week 3/Books_GerPort/German/schiller/Die Jungfrau von Orleans.txt\n",
            "/content/drive/My Drive/havardx/Using Python for Research/week 3/Books_GerPort/German/schiller/Die Piccolomini.txt\n",
            "/content/drive/My Drive/havardx/Using Python for Research/week 3/Books_GerPort/German/schiller/die braut von messina.txt\n",
            "/content/drive/My Drive/havardx/Using Python for Research/week 3/Books_GerPort/German/schiller/Der Neffe als Onkel.txt\n",
            "/content/drive/My Drive/havardx/Using Python for Research/week 3/Books_GerPort/German/shakespeare/Richard III.txt\n",
            "/content/drive/My Drive/havardx/Using Python for Research/week 3/Books_GerPort/German/shakespeare/Hamlet.txt\n",
            "/content/drive/My Drive/havardx/Using Python for Research/week 3/Books_GerPort/German/shakespeare/Romeo und Julia.txt\n",
            "/content/drive/My Drive/havardx/Using Python for Research/week 3/Books_GerPort/German/shakespeare/Macbeth.txt\n",
            "/content/drive/My Drive/havardx/Using Python for Research/week 3/Books_GerPort/German/shakespeare/Othello.txt\n",
            "/content/drive/My Drive/havardx/Using Python for Research/week 3/Books_GerPort/German/shakespeare/Der Kaufmann von Venedig.txt\n",
            "/content/drive/My Drive/havardx/Using Python for Research/week 3/Books_GerPort/German/shakespeare/Ein Sommernachtstraum.txt\n",
            "/content/drive/My Drive/havardx/Using Python for Research/week 3/Books_GerPort/German/lessing/miss sara sampson.txt\n",
            "/content/drive/My Drive/havardx/Using Python for Research/week 3/Books_GerPort/German/lessing/philotas.txt\n",
            "/content/drive/My Drive/havardx/Using Python for Research/week 3/Books_GerPort/German/lessing/minna von barnhelm.txt\n",
            "/content/drive/My Drive/havardx/Using Python for Research/week 3/Books_GerPort/German/lessing/hamburgische dramaturgie.txt\n",
            "/content/drive/My Drive/havardx/Using Python for Research/week 3/Books_GerPort/German/lessing/emilia galotti.txt\n",
            "/content/drive/My Drive/havardx/Using Python for Research/week 3/Books_GerPort/German/lessing/die juden.txt\n",
            "/content/drive/My Drive/havardx/Using Python for Research/week 3/Books_GerPort/German/lessing/der junge gelehrte.txt\n",
            "/content/drive/My Drive/havardx/Using Python for Research/week 3/Books_GerPort/German/lessing/der freigeist.txt\n",
            "/content/drive/My Drive/havardx/Using Python for Research/week 3/Books_GerPort/German/raimund/Das MÑdchen aus der Feenwelt.txt\n",
            "/content/drive/My Drive/havardx/Using Python for Research/week 3/Books_GerPort/German/raimund/Der Alpenkînig und der Menschenfeind.txt\n",
            "/content/drive/My Drive/havardx/Using Python for Research/week 3/Books_GerPort/German/raimund/Die unheilbringende Krone.txt\n",
            "/content/drive/My Drive/havardx/Using Python for Research/week 3/Books_GerPort/German/raimund/Der Diamant des Geisterkînigs.txt\n",
            "/content/drive/My Drive/havardx/Using Python for Research/week 3/Books_GerPort/German/raimund/Moisasurs Zauberfluch.txt\n",
            "/content/drive/My Drive/havardx/Using Python for Research/week 3/Books_GerPort/German/raimund/Die gefesselte Phantasie.txt\n",
            "/content/drive/My Drive/havardx/Using Python for Research/week 3/Books_GerPort/German/raimund/Der Verschwender.txt\n",
            "/content/drive/My Drive/havardx/Using Python for Research/week 3/Books_GerPort/German/raimund/Der Barometermacher auf der Zauberinsel.txt\n"
          ],
          "name": "stdout"
        }
      ]
    },
    {
      "cell_type": "code",
      "metadata": {
        "id": "AqCTiWKH2zIw",
        "colab_type": "code",
        "colab": {
          "base_uri": "https://localhost:8080/",
          "height": 204
        },
        "outputId": "76d94049-9c7b-41e8-d456-8191478aed62"
      },
      "source": [
        "stats.head()"
      ],
      "execution_count": 33,
      "outputs": [
        {
          "output_type": "execute_result",
          "data": {
            "text/html": [
              "<div>\n",
              "<style scoped>\n",
              "    .dataframe tbody tr th:only-of-type {\n",
              "        vertical-align: middle;\n",
              "    }\n",
              "\n",
              "    .dataframe tbody tr th {\n",
              "        vertical-align: top;\n",
              "    }\n",
              "\n",
              "    .dataframe thead th {\n",
              "        text-align: right;\n",
              "    }\n",
              "</style>\n",
              "<table border=\"1\" class=\"dataframe\">\n",
              "  <thead>\n",
              "    <tr style=\"text-align: right;\">\n",
              "      <th></th>\n",
              "      <th>language</th>\n",
              "      <th>author</th>\n",
              "      <th>title</th>\n",
              "      <th>length</th>\n",
              "      <th>unique</th>\n",
              "    </tr>\n",
              "  </thead>\n",
              "  <tbody>\n",
              "    <tr>\n",
              "      <th>1</th>\n",
              "      <td>Portuguese</td>\n",
              "      <td>Branco</td>\n",
              "      <td>Livro de Consolação</td>\n",
              "      <td>54151</td>\n",
              "      <td>15871</td>\n",
              "    </tr>\n",
              "    <tr>\n",
              "      <th>2</th>\n",
              "      <td>Portuguese</td>\n",
              "      <td>Branco</td>\n",
              "      <td>Lagrimas Abenáoadas</td>\n",
              "      <td>45182</td>\n",
              "      <td>12622</td>\n",
              "    </tr>\n",
              "    <tr>\n",
              "      <th>3</th>\n",
              "      <td>Portuguese</td>\n",
              "      <td>Branco</td>\n",
              "      <td>Scenas Contemporaneas</td>\n",
              "      <td>48889</td>\n",
              "      <td>14395</td>\n",
              "    </tr>\n",
              "    <tr>\n",
              "      <th>4</th>\n",
              "      <td>Portuguese</td>\n",
              "      <td>Branco</td>\n",
              "      <td>O Regicida</td>\n",
              "      <td>50751</td>\n",
              "      <td>14779</td>\n",
              "    </tr>\n",
              "    <tr>\n",
              "      <th>5</th>\n",
              "      <td>Portuguese</td>\n",
              "      <td>Branco</td>\n",
              "      <td>O que fazem mulheres</td>\n",
              "      <td>41175</td>\n",
              "      <td>12316</td>\n",
              "    </tr>\n",
              "  </tbody>\n",
              "</table>\n",
              "</div>"
            ],
            "text/plain": [
              "     language  author                  title length unique\n",
              "1  Portuguese  Branco  Livro de Consolação  54151  15871\n",
              "2  Portuguese  Branco   Lagrimas Abenáoadas  45182  12622\n",
              "3  Portuguese  Branco  Scenas Contemporaneas  48889  14395\n",
              "4  Portuguese  Branco             O Regicida  50751  14779\n",
              "5  Portuguese  Branco   O que fazem mulheres  41175  12316"
            ]
          },
          "metadata": {
            "tags": []
          },
          "execution_count": 33
        }
      ]
    },
    {
      "cell_type": "code",
      "metadata": {
        "id": "E9BOXobx6BGk",
        "colab_type": "code",
        "colab": {}
      },
      "source": [
        "import matplotlib.pyplot as plt\n"
      ],
      "execution_count": 0,
      "outputs": []
    },
    {
      "cell_type": "code",
      "metadata": {
        "id": "4lqKKSOw6FHG",
        "colab_type": "code",
        "colab": {
          "base_uri": "https://localhost:8080/",
          "height": 282
        },
        "outputId": "63a5e158-b83b-454b-eb61-7c89294aa242"
      },
      "source": [
        "plt.plot(stats[\"length\"],stats[\"unique\"], \"bo\")"
      ],
      "execution_count": 37,
      "outputs": [
        {
          "output_type": "execute_result",
          "data": {
            "text/plain": [
              "[<matplotlib.lines.Line2D at 0x7f1da02ef710>]"
            ]
          },
          "metadata": {
            "tags": []
          },
          "execution_count": 37
        },
        {
          "output_type": "display_data",
          "data": {
            "image/png": "[encoded data removed]",
            "text/plain": [
              "<Figure size 432x288 with 1 Axes>"
            ]
          },
          "metadata": {
            "tags": [],
            "needs_background": "light"
          }
        }
      ]
    },
    {
      "cell_type": "code",
      "metadata": {
        "id": "tMpUdBjk6Usv",
        "colab_type": "code",
        "colab": {
          "base_uri": "https://localhost:8080/",
          "height": 609
        },
        "outputId": "bea11154-eb36-4b0e-dff8-649bbe2c1807"
      },
      "source": [
        "plt.figure(figsize=(10,10))\n",
        "subset = stats[stats.language == \"Portuguese\"]\n",
        "plt.plot(subset.length,subset.unique,\"o\",label=\"Portuguese\",color=\"cyan\")\n",
        "\n",
        "subset = stats[stats.language == \"German\"]\n",
        "plt.plot(subset.length,subset.unique,\"o\",label=\"German\",color=\"r\")\n",
        "plt.legend()"
      ],
      "execution_count": 40,
      "outputs": [
        {
          "output_type": "execute_result",
          "data": {
            "text/plain": [
              "<matplotlib.legend.Legend at 0x7f1da02cfa20>"
            ]
          },
          "metadata": {
            "tags": []
          },
          "execution_count": 40
        },
        {
          "output_type": "display_data",
          "data": {
            "image/png": "[encoded data removed]",
            "text/plain": [
              "<Figure size 720x720 with 1 Axes>"
            ]
          },
          "metadata": {
            "tags": [],
            "needs_background": "light"
          }
        }
      ]
    },
    {
      "cell_type": "code",
      "metadata": {
        "id": "ePiB88kO7sDH",
        "colab_type": "code",
        "colab": {}
      },
      "source": [
        ""
      ],
      "execution_count": 0,
      "outputs": []
    }
  ]
}