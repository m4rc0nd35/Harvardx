{
  "nbformat": 4,
  "nbformat_minor": 0,
  "metadata": {
    "colab": {
      "name": "week1HomeWork.ipynb",
      "provenance": [],
      "authorship_tag": "ABX9TyOv4Zq9bdJKu6aVzN8ID7+j",
      "include_colab_link": true
    },
    "kernelspec": {
      "name": "python3",
      "display_name": "Python 3"
    }
  },
  "cells": [
    {
      "cell_type": "markdown",
      "metadata": {
        "id": "view-in-github",
        "colab_type": "text"
      },
      "source": [
        "<a href=\"https://colab.research.google.com/github/vini1lol/Havardx/blob/master/week1HomeWork.ipynb\" target=\"_parent\"><img src=\"https://colab.research.google.com/assets/colab-badge.svg\" alt=\"Open In Colab\"/></a>"
      ]
    },
    {
      "cell_type": "markdown",
      "metadata": {
        "id": "wvHGybbubsiF",
        "colab_type": "text"
      },
      "source": [
        "#1a"
      ]
    },
    {
      "cell_type": "code",
      "metadata": {
        "id": "hL1p-BIDO6g9",
        "colab_type": "code",
        "colab": {}
      },
      "source": [
        "import string"
      ],
      "execution_count": 0,
      "outputs": []
    },
    {
      "cell_type": "code",
      "metadata": {
        "id": "SAHp_r19PCL6",
        "colab_type": "code",
        "outputId": "bf043733-582d-4c3e-8630-07b1905ac783",
        "colab": {
          "base_uri": "https://localhost:8080/",
          "height": 34
        }
      },
      "source": [
        "alphabet = string.ascii_letters\n",
        "alphabet"
      ],
      "execution_count": 0,
      "outputs": [
        {
          "output_type": "execute_result",
          "data": {
            "text/plain": [
              "'abcdefghijklmnopqrstuvwxyzABCDEFGHIJKLMNOPQRSTUVWXYZ'"
            ]
          },
          "metadata": {
            "tags": []
          },
          "execution_count": 2
        }
      ]
    },
    {
      "cell_type": "markdown",
      "metadata": {
        "id": "g9He4MF6bz9C",
        "colab_type": "text"
      },
      "source": [
        "#1b/c/e"
      ]
    },
    {
      "cell_type": "code",
      "metadata": {
        "id": "IwocSe26PNkW",
        "colab_type": "code",
        "outputId": "c20a6871-4586-4bc0-d053-4865ff49e324",
        "colab": {
          "base_uri": "https://localhost:8080/",
          "height": 544
        }
      },
      "source": [
        "count_letters={}\n",
        "sentence = 'Four score and seven years ago our fathers brought forth on this continent, a new nation, conceived in Liberty, and dedicated to the proposition that all men are created equal. Now we are engaged in a great civil war, testing whether that nation, or any nation so conceived and so dedicated, can long endure. We are met on a great battle-field of that war. We have come to dedicate a portion of that field, as a final resting place for those who here gave their lives that that nation might live. It is altogether fitting and proper that we should do this. But, in a larger sense, we can not dedicate -- we can not consecrate -- we can not hallow -- this ground. The brave men, living and dead, who struggled here, have consecrated it, far above our poor power to add or detract. The world will little note, nor long remember what we say here, but it can never forget what they did here. It is for us the living, rather, to be dedicated here to the unfinished work which they who fought here have thus far so nobly advanced. It is rather for us to be here dedicated to the great task remaining before us -- that from these honored dead we take increased devotion to that cause for which they gave the last full measure of devotion -- that we here highly resolve that these dead shall not have died in vain -- that this nation, under God, shall have a new birth of freedom -- and that government of the people, by the people, for the people, shall not perish from the earth.'\n",
        "\n",
        "for letter in sentence:\n",
        "  if letter in alphabet:\n",
        "    if letter in count_letters:\n",
        "      count_letters[letter] +=1\n",
        "    else:\n",
        "      count_letters[letter] = 1\n",
        "count_letters\n"
      ],
      "execution_count": 0,
      "outputs": [
        {
          "output_type": "execute_result",
          "data": {
            "text/plain": [
              "{'B': 1,\n",
              " 'F': 1,\n",
              " 'G': 1,\n",
              " 'I': 3,\n",
              " 'L': 1,\n",
              " 'N': 1,\n",
              " 'T': 2,\n",
              " 'W': 2,\n",
              " 'a': 102,\n",
              " 'b': 13,\n",
              " 'c': 31,\n",
              " 'd': 58,\n",
              " 'e': 165,\n",
              " 'f': 26,\n",
              " 'g': 27,\n",
              " 'h': 80,\n",
              " 'i': 65,\n",
              " 'k': 3,\n",
              " 'l': 41,\n",
              " 'm': 13,\n",
              " 'n': 76,\n",
              " 'o': 93,\n",
              " 'p': 15,\n",
              " 'q': 1,\n",
              " 'r': 79,\n",
              " 's': 44,\n",
              " 't': 124,\n",
              " 'u': 21,\n",
              " 'v': 24,\n",
              " 'w': 26,\n",
              " 'y': 10}"
            ]
          },
          "metadata": {
            "tags": []
          },
          "execution_count": 4
        }
      ]
    },
    {
      "cell_type": "code",
      "metadata": {
        "id": "jFvzC96eQDpX",
        "colab_type": "code",
        "outputId": "77c01e45-04e4-47c8-bb6d-fd706a3f628a",
        "colab": {
          "base_uri": "https://localhost:8080/",
          "height": 34
        }
      },
      "source": [
        "count_letters['h']"
      ],
      "execution_count": 0,
      "outputs": [
        {
          "output_type": "execute_result",
          "data": {
            "text/plain": [
              "80"
            ]
          },
          "metadata": {
            "tags": []
          },
          "execution_count": 6
        }
      ]
    },
    {
      "cell_type": "markdown",
      "metadata": {
        "id": "f8eF_yGIcFSj",
        "colab_type": "text"
      },
      "source": [
        "#2a"
      ]
    },
    {
      "cell_type": "code",
      "metadata": {
        "id": "c782NsbhRPiS",
        "colab_type": "code",
        "outputId": "d3ba70bb-4ba9-4682-da7b-0a615f4e3686",
        "colab": {
          "base_uri": "https://localhost:8080/",
          "height": 34
        }
      },
      "source": [
        "import math\n",
        "print(math.pi/4)"
      ],
      "execution_count": 0,
      "outputs": [
        {
          "output_type": "stream",
          "text": [
            "0.7853981633974483\n"
          ],
          "name": "stdout"
        }
      ]
    },
    {
      "cell_type": "markdown",
      "metadata": {
        "id": "gKXf_aw3cLLt",
        "colab_type": "text"
      },
      "source": [
        "#2b\n"
      ]
    },
    {
      "cell_type": "code",
      "metadata": {
        "id": "t8iFc01sRyqU",
        "colab_type": "code",
        "colab": {}
      },
      "source": [
        "import random\n",
        "random.seed(1)"
      ],
      "execution_count": 0,
      "outputs": []
    },
    {
      "cell_type": "code",
      "metadata": {
        "id": "gdbWsgSbSIM6",
        "colab_type": "code",
        "outputId": "744ee98b-bd72-41fd-8107-56f0b17db6ee",
        "colab": {
          "base_uri": "https://localhost:8080/",
          "height": 34
        }
      },
      "source": [
        "random.seed(1)\n",
        "def rand():\n",
        "  a = random.uniform(-1,1)\n",
        "  return a\n",
        "rand()"
      ],
      "execution_count": 0,
      "outputs": [
        {
          "output_type": "execute_result",
          "data": {
            "text/plain": [
              "-0.7312715117751976"
            ]
          },
          "metadata": {
            "tags": []
          },
          "execution_count": 12
        }
      ]
    },
    {
      "cell_type": "markdown",
      "metadata": {
        "id": "x6tiO7wIcQne",
        "colab_type": "text"
      },
      "source": [
        "#2c"
      ]
    },
    {
      "cell_type": "code",
      "metadata": {
        "id": "0e7pDGeNSTVB",
        "colab_type": "code",
        "outputId": "4867ddab-ec6a-454d-85e8-391619100e91",
        "colab": {
          "base_uri": "https://localhost:8080/",
          "height": 34
        }
      },
      "source": [
        "def distance(x,y):\n",
        "  a = (x[0]-y[0])**2\n",
        "  b = (x[1]-y[1])**2\n",
        "  c = math.sqrt(a+b)\n",
        "  return c\n",
        "x=(0,0)\n",
        "y=(1,1)\n",
        "distance(x,y)"
      ],
      "execution_count": 0,
      "outputs": [
        {
          "output_type": "execute_result",
          "data": {
            "text/plain": [
              "1.4142135623730951"
            ]
          },
          "metadata": {
            "tags": []
          },
          "execution_count": 13
        }
      ]
    },
    {
      "cell_type": "markdown",
      "metadata": {
        "id": "pemPrkRScdwT",
        "colab_type": "text"
      },
      "source": [
        "#2d\n"
      ]
    },
    {
      "cell_type": "code",
      "metadata": {
        "id": "DxS9MEWZT2rq",
        "colab_type": "code",
        "outputId": "685d3c69-46ec-4807-95ca-bda1221312ec",
        "colab": {
          "base_uri": "https://localhost:8080/",
          "height": 34
        }
      },
      "source": [
        "def in_circle(x, origin = [0,0]):\n",
        "  d = distance(x,origin)\n",
        "  if d < 1:\n",
        "    return True\n",
        "  else:\n",
        "    return False\n",
        "in_circle((0,0.5))"
      ],
      "execution_count": 0,
      "outputs": [
        {
          "output_type": "execute_result",
          "data": {
            "text/plain": [
              "True"
            ]
          },
          "metadata": {
            "tags": []
          },
          "execution_count": 26
        }
      ]
    },
    {
      "cell_type": "markdown",
      "metadata": {
        "id": "_-PKhbQKci8L",
        "colab_type": "text"
      },
      "source": [
        "#2e"
      ]
    },
    {
      "cell_type": "code",
      "metadata": {
        "id": "errlkOLoUlhM",
        "colab_type": "code",
        "outputId": "f94321d2-7989-4edd-c19e-4b2f9419c6b8",
        "colab": {
          "base_uri": "https://localhost:8080/",
          "height": 34
        }
      },
      "source": [
        "inside =[]\n",
        "random.seed(1)\n",
        "count = 0\n",
        "for i in range(10000):\n",
        "  a = rand()\n",
        "  b = rand()\n",
        "  c=(a,b)\n",
        "  inside.append(in_circle(c))\n",
        "  if inside[i] == True:\n",
        "    count +=1\n",
        "print(count/10000)"
      ],
      "execution_count": 0,
      "outputs": [
        {
          "output_type": "stream",
          "text": [
            "0.779\n"
          ],
          "name": "stdout"
        }
      ]
    },
    {
      "cell_type": "markdown",
      "metadata": {
        "id": "jUhIRUcocpCG",
        "colab_type": "text"
      },
      "source": [
        "#2f"
      ]
    },
    {
      "cell_type": "code",
      "metadata": {
        "id": "Bpbc8VpxWN0_",
        "colab_type": "code",
        "outputId": "6b0d20d3-23f5-4baa-c809-44317dacbe93",
        "colab": {
          "base_uri": "https://localhost:8080/",
          "height": 34
        }
      },
      "source": [
        "0.779-0.7853981633974483"
      ],
      "execution_count": 0,
      "outputs": [
        {
          "output_type": "execute_result",
          "data": {
            "text/plain": [
              "-0.006398163397448253"
            ]
          },
          "metadata": {
            "tags": []
          },
          "execution_count": 31
        }
      ]
    },
    {
      "cell_type": "markdown",
      "metadata": {
        "id": "RxcdrlhjcvkE",
        "colab_type": "text"
      },
      "source": [
        "#3a"
      ]
    },
    {
      "cell_type": "code",
      "metadata": {
        "id": "y_BVpmrXYgn8",
        "colab_type": "code",
        "outputId": "2497abdd-9a02-4161-fba6-0166a22c9e7c",
        "colab": {
          "base_uri": "https://localhost:8080/",
          "height": 34
        }
      },
      "source": [
        "def moving_window_average(x, n_neighbors=1):\n",
        "    n = len(x)\n",
        "    a=[]\n",
        "    width = n_neighbors*2 + 1\n",
        "    x = [x[0]]*n_neighbors + x + [x[-1]]*n_neighbors\n",
        "    for i in range(n):\n",
        "      a.append(sum(x[i:i+width])/len(x[i:i+width]))\n",
        "    return a\n",
        "\n",
        "x = [0,10,5,3,1,5]\n",
        "print(moving_window_average(x, 1))"
      ],
      "execution_count": 0,
      "outputs": [
        {
          "output_type": "stream",
          "text": [
            "[3.3333333333333335, 5.0, 6.0, 3.0, 3.0, 3.6666666666666665]\n"
          ],
          "name": "stdout"
        }
      ]
    },
    {
      "cell_type": "code",
      "metadata": {
        "id": "LUt6d1WuZlp0",
        "colab_type": "code",
        "outputId": "7d77136a-73db-4ddf-e3a1-0586f47de7a5",
        "colab": {
          "base_uri": "https://localhost:8080/",
          "height": 34
        }
      },
      "source": [
        "sum(moving_window_average(x, 1))"
      ],
      "execution_count": 0,
      "outputs": [
        {
          "output_type": "execute_result",
          "data": {
            "text/plain": [
              "24.000000000000004"
            ]
          },
          "metadata": {
            "tags": []
          },
          "execution_count": 43
        }
      ]
    },
    {
      "cell_type": "markdown",
      "metadata": {
        "id": "f9EmOXWIc4BS",
        "colab_type": "text"
      },
      "source": [
        "#3b"
      ]
    },
    {
      "cell_type": "code",
      "metadata": {
        "id": "a1CE-ueRaoVC",
        "colab_type": "code",
        "outputId": "839da4de-97cb-4de2-a520-19bf4d18ffcf",
        "colab": {
          "base_uri": "https://localhost:8080/",
          "height": 34
        }
      },
      "source": [
        "random.seed(1)\n",
        "def randd():\n",
        "  a = random.uniform(0,1)\n",
        "  return a\n",
        "x =[]\n",
        "avag = []\n",
        "y=[]\n",
        "for i in range(1000):\n",
        "  x.append(randd())\n",
        "y.append(x)\n",
        "for j in range(1,10):\n",
        "  avag.append(moving_window_average(x,j))\n",
        "  y.append(avag[j-1])\n",
        "avag[5][10]"
      ],
      "execution_count": 0,
      "outputs": [
        {
          "output_type": "execute_result",
          "data": {
            "text/plain": [
              "0.4566197918719392"
            ]
          },
          "metadata": {
            "tags": []
          },
          "execution_count": 88
        }
      ]
    },
    {
      "cell_type": "code",
      "metadata": {
        "id": "nAdmbi20d57i",
        "colab_type": "code",
        "outputId": "f1d47910-f5ad-472a-8f25-9655bc16c56e",
        "colab": {
          "base_uri": "https://localhost:8080/",
          "height": 34
        }
      },
      "source": [
        "y[6][10]"
      ],
      "execution_count": 0,
      "outputs": [
        {
          "output_type": "execute_result",
          "data": {
            "text/plain": [
              "0.4566197918719392"
            ]
          },
          "metadata": {
            "tags": []
          },
          "execution_count": 92
        }
      ]
    },
    {
      "cell_type": "markdown",
      "metadata": {
        "id": "CODfXsgdkZfs",
        "colab_type": "text"
      },
      "source": [
        "#3c"
      ]
    },
    {
      "cell_type": "code",
      "metadata": {
        "id": "v-LiE-sjjPg-",
        "colab_type": "code",
        "outputId": "b2e90182-c53c-40bd-f14a-07b5b277fad5",
        "colab": {
          "base_uri": "https://localhost:8080/",
          "height": 187
        }
      },
      "source": [
        "for i in y:\n",
        "  max = i[0]\n",
        "  min = i[0]\n",
        "  for j in i:\n",
        "    if j > max:\n",
        "      max=j\n",
        "    if j < min:\n",
        "      min = j\n",
        "  r = max-min\n",
        "  print(r)"
      ],
      "execution_count": 0,
      "outputs": [
        {
          "output_type": "stream",
          "text": [
            "0.9973152343362711\n",
            "0.9128390185520854\n",
            "0.801645771909397\n",
            "0.7137391224212468\n",
            "0.6230146948375028\n",
            "0.5042284086774562\n",
            "0.5071013753101629\n",
            "0.4590090496908159\n",
            "0.44659549539083265\n",
            "0.4433696944090051\n"
          ],
          "name": "stdout"
        }
      ]
    },
    {
      "cell_type": "code",
      "metadata": {
        "id": "CwERluW7oUIB",
        "colab_type": "code",
        "colab": {}
      },
      "source": [
        ""
      ],
      "execution_count": 0,
      "outputs": []
    }
  ]
}