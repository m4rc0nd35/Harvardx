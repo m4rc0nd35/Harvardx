{
  "nbformat": 4,
  "nbformat_minor": 0,
  "metadata": {
    "colab": {
      "name": "week2Homework.ipynb",
      "provenance": [],
      "toc_visible": true,
      "authorship_tag": "ABX9TyP2A/Til2zFsZXhxa7iB9P1",
      "include_colab_link": true
    },
    "kernelspec": {
      "name": "python3",
      "display_name": "Python 3"
    }
  },
  "cells": [
    {
      "cell_type": "markdown",
      "metadata": {
        "id": "view-in-github",
        "colab_type": "text"
      },
      "source": [
        "<a href=\"https://colab.research.google.com/github/vini1lol/Havardx/blob/master/week2Homework.ipynb\" target=\"_parent\"><img src=\"https://colab.research.google.com/assets/colab-badge.svg\" alt=\"Open In Colab\"/></a>"
      ]
    },
    {
      "cell_type": "markdown",
      "metadata": {
        "id": "alaceRb0qVys",
        "colab_type": "text"
      },
      "source": [
        "#Import"
      ]
    },
    {
      "cell_type": "code",
      "metadata": {
        "id": "sVfW5ZUZIE84",
        "colab_type": "code",
        "colab": {}
      },
      "source": [
        "import numpy as np\n",
        "import random"
      ],
      "execution_count": 0,
      "outputs": []
    },
    {
      "cell_type": "markdown",
      "metadata": {
        "id": "9BWsGnLEHn7u",
        "colab_type": "text"
      },
      "source": [
        "#1\n"
      ]
    },
    {
      "cell_type": "markdown",
      "metadata": {
        "id": "dEJseXf-qbWr",
        "colab_type": "text"
      },
      "source": [
        "##Numpy.Zeros\n",
        "https://docs.scipy.org/doc/numpy/reference/generated/numpy.zeros.html"
      ]
    },
    {
      "cell_type": "code",
      "metadata": {
        "id": "RcVXJz3NrDyh",
        "colab_type": "code",
        "colab": {}
      },
      "source": [
        "# np.zeros?"
      ],
      "execution_count": 0,
      "outputs": []
    },
    {
      "cell_type": "code",
      "metadata": {
        "id": "L7QPQUhaqmI8",
        "colab_type": "code",
        "colab": {
          "base_uri": "https://localhost:8080/",
          "height": 68
        },
        "outputId": "ed2c60b1-5c2b-4eab-a5e0-80f93cff86dd"
      },
      "source": [
        "np.zeros((3,3,))"
      ],
      "execution_count": 226,
      "outputs": [
        {
          "output_type": "execute_result",
          "data": {
            "text/plain": [
              "array([[0., 0., 0.],\n",
              "       [0., 0., 0.],\n",
              "       [0., 0., 0.]])"
            ]
          },
          "metadata": {
            "tags": []
          },
          "execution_count": 226
        }
      ]
    },
    {
      "cell_type": "markdown",
      "metadata": {
        "id": "b6y0757xrJvO",
        "colab_type": "text"
      },
      "source": [
        "##Exercise"
      ]
    },
    {
      "cell_type": "code",
      "metadata": {
        "id": "Pk_3K6yTHcVF",
        "colab_type": "code",
        "colab": {}
      },
      "source": [
        "def create_board():\n",
        "  a = np.zeros((3,3),dtype=int)\n",
        "  return a"
      ],
      "execution_count": 0,
      "outputs": []
    },
    {
      "cell_type": "code",
      "metadata": {
        "id": "wLMzqbVXIUCQ",
        "colab_type": "code",
        "colab": {
          "base_uri": "https://localhost:8080/",
          "height": 68
        },
        "outputId": "b0885874-ef89-44e1-8eec-8cfbff2dc5c6"
      },
      "source": [
        "board = create_board()\n",
        "board"
      ],
      "execution_count": 8,
      "outputs": [
        {
          "output_type": "execute_result",
          "data": {
            "text/plain": [
              "array([[0, 0, 0],\n",
              "       [0, 0, 0],\n",
              "       [0, 0, 0]])"
            ]
          },
          "metadata": {
            "tags": []
          },
          "execution_count": 8
        }
      ]
    },
    {
      "cell_type": "markdown",
      "metadata": {
        "id": "RpieEYstIlMv",
        "colab_type": "text"
      },
      "source": [
        "# 2"
      ]
    },
    {
      "cell_type": "code",
      "metadata": {
        "id": "cBnD6DvhIi-g",
        "colab_type": "code",
        "colab": {}
      },
      "source": [
        "def place(board, player, position):\n",
        "  x,y = position\n",
        "  if (x >= 0 and x<=3) and (y>=0 and y<=3):\n",
        "    if board[x][y] == 0:\n",
        "      board[x][y]=player\n",
        "  return board\n"
      ],
      "execution_count": 0,
      "outputs": []
    },
    {
      "cell_type": "code",
      "metadata": {
        "id": "ml8yb-kRLT50",
        "colab_type": "code",
        "colab": {
          "base_uri": "https://localhost:8080/",
          "height": 68
        },
        "outputId": "330441c7-53c1-4faf-b544-eb22c5633ea0"
      },
      "source": [
        "place(board,1,(0,0,))\n",
        "board"
      ],
      "execution_count": 40,
      "outputs": [
        {
          "output_type": "execute_result",
          "data": {
            "text/plain": [
              "array([[1, 0, 0],\n",
              "       [1, 0, 0],\n",
              "       [0, 0, 0]])"
            ]
          },
          "metadata": {
            "tags": []
          },
          "execution_count": 40
        }
      ]
    },
    {
      "cell_type": "markdown",
      "metadata": {
        "id": "MKQg79DNLoxP",
        "colab_type": "text"
      },
      "source": [
        "#3"
      ]
    },
    {
      "cell_type": "markdown",
      "metadata": {
        "id": "rgh07eFkrWF9",
        "colab_type": "text"
      },
      "source": [
        "##Numpy.where\n",
        "https://docs.scipy.org/doc/numpy-1.15.1/reference/generated/numpy.where.html"
      ]
    },
    {
      "cell_type": "code",
      "metadata": {
        "id": "LsqXKa-Irhxj",
        "colab_type": "code",
        "colab": {}
      },
      "source": [
        "# np.where?"
      ],
      "execution_count": 0,
      "outputs": []
    },
    {
      "cell_type": "code",
      "metadata": {
        "id": "gmAI2BlvrlGB",
        "colab_type": "code",
        "colab": {
          "base_uri": "https://localhost:8080/",
          "height": 34
        },
        "outputId": "349ab2ef-c62e-489a-94c2-14af412a048e"
      },
      "source": [
        "np.where(board==1)"
      ],
      "execution_count": 230,
      "outputs": [
        {
          "output_type": "execute_result",
          "data": {
            "text/plain": [
              "(array([0, 2]), array([2, 1]))"
            ]
          },
          "metadata": {
            "tags": []
          },
          "execution_count": 230
        }
      ]
    },
    {
      "cell_type": "markdown",
      "metadata": {
        "id": "VvP2qSDQrR8x",
        "colab_type": "text"
      },
      "source": [
        "##Exercise"
      ]
    },
    {
      "cell_type": "code",
      "metadata": {
        "id": "aIhSn8SKLqd0",
        "colab_type": "code",
        "colab": {}
      },
      "source": [
        "def possibilities(board):\n",
        "  b=[]\n",
        "  a = np.where(board==0)\n",
        "  for i in range(a[0].shape[0]):\n",
        "    b.append((a[0][i],a[1][i]))\n",
        "  return b"
      ],
      "execution_count": 0,
      "outputs": []
    },
    {
      "cell_type": "code",
      "metadata": {
        "id": "6Tc7CvrIMQzs",
        "colab_type": "code",
        "colab": {
          "base_uri": "https://localhost:8080/",
          "height": 34
        },
        "outputId": "45b23263-6eb4-40a2-85d6-5cb77cebb491"
      },
      "source": [
        "a = possibilities(board)\n",
        "a"
      ],
      "execution_count": 131,
      "outputs": [
        {
          "output_type": "execute_result",
          "data": {
            "text/plain": [
              "[(1, 2), (2, 0)]"
            ]
          },
          "metadata": {
            "tags": []
          },
          "execution_count": 131
        }
      ]
    },
    {
      "cell_type": "markdown",
      "metadata": {
        "id": "nrqLuy7UPInj",
        "colab_type": "text"
      },
      "source": [
        "#4"
      ]
    },
    {
      "cell_type": "markdown",
      "metadata": {
        "id": "eXL_K3CVr_Wa",
        "colab_type": "text"
      },
      "source": [
        "##Random.choice\n",
        "https://pynative.com/python-random-choice/"
      ]
    },
    {
      "cell_type": "code",
      "metadata": {
        "id": "884j4NassNPs",
        "colab_type": "code",
        "colab": {}
      },
      "source": [
        "# random.choice?"
      ],
      "execution_count": 0,
      "outputs": []
    },
    {
      "cell_type": "code",
      "metadata": {
        "id": "NKhbCSr8sNyD",
        "colab_type": "code",
        "colab": {
          "base_uri": "https://localhost:8080/",
          "height": 34
        },
        "outputId": "94835535-8b46-4057-b4d7-7c6657627dc9"
      },
      "source": [
        "random.choice([1,2,3,5,7,8,4])"
      ],
      "execution_count": 233,
      "outputs": [
        {
          "output_type": "execute_result",
          "data": {
            "text/plain": [
              "5"
            ]
          },
          "metadata": {
            "tags": []
          },
          "execution_count": 233
        }
      ]
    },
    {
      "cell_type": "markdown",
      "metadata": {
        "id": "SlLHOCqJr_cC",
        "colab_type": "text"
      },
      "source": [
        "##Exercise"
      ]
    },
    {
      "cell_type": "code",
      "metadata": {
        "id": "9fGki2kyOuSk",
        "colab_type": "code",
        "colab": {}
      },
      "source": [
        "random.seed(1)\n",
        "def random_place(board, player):\n",
        "  a = random.choice(possibilities(board))\n",
        "  place(board,player,a)\n",
        "\n"
      ],
      "execution_count": 0,
      "outputs": []
    },
    {
      "cell_type": "code",
      "metadata": {
        "id": "C1cQlDRwQDIK",
        "colab_type": "code",
        "colab": {
          "base_uri": "https://localhost:8080/",
          "height": 68
        },
        "outputId": "5e704f20-1a94-43b5-9a95-4d9235cbe5e2"
      },
      "source": [
        "random_place(board,2)\n",
        "board"
      ],
      "execution_count": 133,
      "outputs": [
        {
          "output_type": "execute_result",
          "data": {
            "text/plain": [
              "array([[2, 2, 1],\n",
              "       [2, 2, 2],\n",
              "       [0, 1, 2]])"
            ]
          },
          "metadata": {
            "tags": []
          },
          "execution_count": 133
        }
      ]
    },
    {
      "cell_type": "markdown",
      "metadata": {
        "id": "Zzw-TlemQsP-",
        "colab_type": "text"
      },
      "source": [
        "#5"
      ]
    },
    {
      "cell_type": "code",
      "metadata": {
        "id": "eViK-5h_QXgD",
        "colab_type": "code",
        "colab": {
          "base_uri": "https://localhost:8080/",
          "height": 68
        },
        "outputId": "fd91ac6b-2b63-4b38-a5c1-39e1ea4ea601"
      },
      "source": [
        "random.seed(1)\n",
        "board = create_board()\n",
        "player = 1\n",
        "for i in range(3):\n",
        "  for player in [1,2]:\n",
        "    random_place(board,player)\n",
        "board"
      ],
      "execution_count": 234,
      "outputs": [
        {
          "output_type": "execute_result",
          "data": {
            "text/plain": [
              "array([[2, 2, 1],\n",
              "       [0, 1, 0],\n",
              "       [0, 1, 2]])"
            ]
          },
          "metadata": {
            "tags": []
          },
          "execution_count": 234
        }
      ]
    },
    {
      "cell_type": "markdown",
      "metadata": {
        "id": "sIhKr2DGSjoj",
        "colab_type": "text"
      },
      "source": [
        "#6"
      ]
    },
    {
      "cell_type": "markdown",
      "metadata": {
        "id": "H8qEiekwszKK",
        "colab_type": "text"
      },
      "source": [
        "##Numpy.all\n",
        "https://docs.scipy.org/doc/numpy/reference/generated/numpy.all.html"
      ]
    },
    {
      "cell_type": "code",
      "metadata": {
        "id": "ZPS2jGU3s-5g",
        "colab_type": "code",
        "colab": {}
      },
      "source": [
        "# np.all?"
      ],
      "execution_count": 0,
      "outputs": []
    },
    {
      "cell_type": "code",
      "metadata": {
        "id": "makN9qLptSOC",
        "colab_type": "code",
        "colab": {
          "base_uri": "https://localhost:8080/",
          "height": 34
        },
        "outputId": "47dc9d07-4ee0-4c3e-91c8-1414d75f755e"
      },
      "source": [
        "(board==0).all(0)"
      ],
      "execution_count": 243,
      "outputs": [
        {
          "output_type": "execute_result",
          "data": {
            "text/plain": [
              "array([False, False, False])"
            ]
          },
          "metadata": {
            "tags": []
          },
          "execution_count": 243
        }
      ]
    },
    {
      "cell_type": "code",
      "metadata": {
        "id": "ppRoZk_fs_BT",
        "colab_type": "code",
        "colab": {
          "base_uri": "https://localhost:8080/",
          "height": 34
        },
        "outputId": "0c894b80-2774-4573-de98-af87beed03eb"
      },
      "source": [
        "(board==0).all()"
      ],
      "execution_count": 236,
      "outputs": [
        {
          "output_type": "execute_result",
          "data": {
            "text/plain": [
              "False"
            ]
          },
          "metadata": {
            "tags": []
          },
          "execution_count": 236
        }
      ]
    },
    {
      "cell_type": "code",
      "metadata": {
        "id": "G8cBLvdetNOm",
        "colab_type": "code",
        "colab": {
          "base_uri": "https://localhost:8080/",
          "height": 34
        },
        "outputId": "6a69784c-571d-4c22-d500-9ff7d5bb9979"
      },
      "source": [
        "np.all(board==0)"
      ],
      "execution_count": 237,
      "outputs": [
        {
          "output_type": "execute_result",
          "data": {
            "text/plain": [
              "False"
            ]
          },
          "metadata": {
            "tags": []
          },
          "execution_count": 237
        }
      ]
    },
    {
      "cell_type": "markdown",
      "metadata": {
        "id": "25DHxPCjs2VZ",
        "colab_type": "text"
      },
      "source": [
        "##Numpy.any\n",
        "https://docs.scipy.org/doc/numpy/reference/generated/numpy.any.html"
      ]
    },
    {
      "cell_type": "code",
      "metadata": {
        "id": "mbz5qnq6tdoH",
        "colab_type": "code",
        "colab": {}
      },
      "source": [
        "# np.any?"
      ],
      "execution_count": 0,
      "outputs": []
    },
    {
      "cell_type": "code",
      "metadata": {
        "id": "CEDPrTOQth7_",
        "colab_type": "code",
        "colab": {
          "base_uri": "https://localhost:8080/",
          "height": 34
        },
        "outputId": "f9f30936-1943-4501-eb06-435df278b36c"
      },
      "source": [
        "(board==0).any(0)"
      ],
      "execution_count": 240,
      "outputs": [
        {
          "output_type": "execute_result",
          "data": {
            "text/plain": [
              "array([ True, False,  True])"
            ]
          },
          "metadata": {
            "tags": []
          },
          "execution_count": 240
        }
      ]
    },
    {
      "cell_type": "code",
      "metadata": {
        "id": "1DYKhfx5tp0m",
        "colab_type": "code",
        "colab": {
          "base_uri": "https://localhost:8080/",
          "height": 34
        },
        "outputId": "86fe7605-2575-47e3-9838-fdaef2eb857b"
      },
      "source": [
        "(board==0).any()"
      ],
      "execution_count": 241,
      "outputs": [
        {
          "output_type": "execute_result",
          "data": {
            "text/plain": [
              "True"
            ]
          },
          "metadata": {
            "tags": []
          },
          "execution_count": 241
        }
      ]
    },
    {
      "cell_type": "markdown",
      "metadata": {
        "id": "LnTvnV9cszRc",
        "colab_type": "text"
      },
      "source": [
        "##Exercise"
      ]
    },
    {
      "cell_type": "code",
      "metadata": {
        "id": "_lPR7nW-Rg3w",
        "colab_type": "code",
        "colab": {}
      },
      "source": [
        "def row_win(board, player):\n",
        "  if (board==player).all(0).any():\n",
        "    return True\n",
        "  return False"
      ],
      "execution_count": 0,
      "outputs": []
    },
    {
      "cell_type": "code",
      "metadata": {
        "id": "msejICHrTTtw",
        "colab_type": "code",
        "colab": {
          "base_uri": "https://localhost:8080/",
          "height": 34
        },
        "outputId": "7a4a54d6-0c2e-4576-d0c1-69c4b96aa1d5"
      },
      "source": [
        "row_win(board,1)"
      ],
      "execution_count": 136,
      "outputs": [
        {
          "output_type": "execute_result",
          "data": {
            "text/plain": [
              "False"
            ]
          },
          "metadata": {
            "tags": []
          },
          "execution_count": 136
        }
      ]
    },
    {
      "cell_type": "markdown",
      "metadata": {
        "id": "CgYlN7agV4dX",
        "colab_type": "text"
      },
      "source": [
        "#7"
      ]
    },
    {
      "cell_type": "code",
      "metadata": {
        "id": "4KPOSXV9Tusi",
        "colab_type": "code",
        "colab": {}
      },
      "source": [
        "def col_win(board, player):\n",
        "  if (board==player).all(1).any():\n",
        "    return True\n",
        "  return False"
      ],
      "execution_count": 0,
      "outputs": []
    },
    {
      "cell_type": "code",
      "metadata": {
        "id": "jU9745FqW4oW",
        "colab_type": "code",
        "colab": {
          "base_uri": "https://localhost:8080/",
          "height": 34
        },
        "outputId": "121b2af3-b554-42f5-fd1e-9075a6a7fde9"
      },
      "source": [
        "b = create_board()\n",
        "place(b,1,(0,0,))\n",
        "place(b,1,(0,1))\n",
        "place(b,1,(0,2))\n",
        "col_win(b,1)"
      ],
      "execution_count": 138,
      "outputs": [
        {
          "output_type": "execute_result",
          "data": {
            "text/plain": [
              "True"
            ]
          },
          "metadata": {
            "tags": []
          },
          "execution_count": 138
        }
      ]
    },
    {
      "cell_type": "code",
      "metadata": {
        "id": "7N9KofReZ1tc",
        "colab_type": "code",
        "colab": {
          "base_uri": "https://localhost:8080/",
          "height": 34
        },
        "outputId": "c7c4a79e-4e8b-4647-889a-9de1baef4d57"
      },
      "source": [
        "col_win(board,1)"
      ],
      "execution_count": 139,
      "outputs": [
        {
          "output_type": "execute_result",
          "data": {
            "text/plain": [
              "False"
            ]
          },
          "metadata": {
            "tags": []
          },
          "execution_count": 139
        }
      ]
    },
    {
      "cell_type": "markdown",
      "metadata": {
        "id": "1qefndNGaBuZ",
        "colab_type": "text"
      },
      "source": [
        "#8"
      ]
    },
    {
      "cell_type": "markdown",
      "metadata": {
        "id": "AVj79sOTpdz_",
        "colab_type": "text"
      },
      "source": [
        "##numpy.diag \n",
        "https://docs.scipy.org/doc/numpy/reference/generated/numpy.diag.html"
      ]
    },
    {
      "cell_type": "code",
      "metadata": {
        "id": "Ms-v7-Akt8oB",
        "colab_type": "code",
        "colab": {}
      },
      "source": [
        "# np.diag?"
      ],
      "execution_count": 0,
      "outputs": []
    },
    {
      "cell_type": "code",
      "metadata": {
        "id": "guXTHsPGpRpi",
        "colab_type": "code",
        "colab": {
          "base_uri": "https://localhost:8080/",
          "height": 68
        },
        "outputId": "7732a431-94cc-4b05-8705-e5e82a46ab0e"
      },
      "source": [
        "board"
      ],
      "execution_count": 224,
      "outputs": [
        {
          "output_type": "execute_result",
          "data": {
            "text/plain": [
              "array([[2, 2, 1],\n",
              "       [0, 2, 0],\n",
              "       [0, 1, 2]])"
            ]
          },
          "metadata": {
            "tags": []
          },
          "execution_count": 224
        }
      ]
    },
    {
      "cell_type": "code",
      "metadata": {
        "id": "hIE74W9KpOtD",
        "colab_type": "code",
        "colab": {
          "base_uri": "https://localhost:8080/",
          "height": 34
        },
        "outputId": "4f65ba5c-f461-4275-c884-fa544dd60654"
      },
      "source": [
        "np.diag(board)"
      ],
      "execution_count": 223,
      "outputs": [
        {
          "output_type": "execute_result",
          "data": {
            "text/plain": [
              "array([2, 2, 2])"
            ]
          },
          "metadata": {
            "tags": []
          },
          "execution_count": 223
        }
      ]
    },
    {
      "cell_type": "markdown",
      "metadata": {
        "id": "CZtiSPTZpvla",
        "colab_type": "text"
      },
      "source": [
        "## Numpy.fliplr\n",
        "https://docs.scipy.org/doc/numpy/reference/generated/numpy.fliplr.html"
      ]
    },
    {
      "cell_type": "code",
      "metadata": {
        "id": "kbAiJG2WuAa4",
        "colab_type": "code",
        "colab": {}
      },
      "source": [
        "# np.fliplr?"
      ],
      "execution_count": 0,
      "outputs": []
    },
    {
      "cell_type": "code",
      "metadata": {
        "id": "ysgXTQMqpJku",
        "colab_type": "code",
        "colab": {
          "base_uri": "https://localhost:8080/",
          "height": 68
        },
        "outputId": "e1f662ce-d1b4-491a-d451-cff814a5bd3f"
      },
      "source": [
        "np.fliplr(board)"
      ],
      "execution_count": 222,
      "outputs": [
        {
          "output_type": "execute_result",
          "data": {
            "text/plain": [
              "array([[1, 2, 2],\n",
              "       [0, 2, 0],\n",
              "       [2, 1, 0]])"
            ]
          },
          "metadata": {
            "tags": []
          },
          "execution_count": 222
        }
      ]
    },
    {
      "cell_type": "code",
      "metadata": {
        "id": "r8WAU6I_pXJG",
        "colab_type": "code",
        "colab": {
          "base_uri": "https://localhost:8080/",
          "height": 34
        },
        "outputId": "9ea1a90f-fa48-4127-f301-4cabd3042169"
      },
      "source": [
        "np.diag(np.fliplr(board))"
      ],
      "execution_count": 225,
      "outputs": [
        {
          "output_type": "execute_result",
          "data": {
            "text/plain": [
              "array([1, 2, 0])"
            ]
          },
          "metadata": {
            "tags": []
          },
          "execution_count": 225
        }
      ]
    },
    {
      "cell_type": "markdown",
      "metadata": {
        "id": "tn9bL34fqHd7",
        "colab_type": "text"
      },
      "source": [
        "##Exercise"
      ]
    },
    {
      "cell_type": "code",
      "metadata": {
        "id": "foRIEQ0_Z6GX",
        "colab_type": "code",
        "colab": {}
      },
      "source": [
        "def diag_win(board, player):\n",
        "  if np.all(np.diag(board)==player) or np.all(np.diag(np.fliplr(board))==player):\n",
        "    return True\n",
        "  return False"
      ],
      "execution_count": 0,
      "outputs": []
    },
    {
      "cell_type": "code",
      "metadata": {
        "id": "j4gDuLeubpTU",
        "colab_type": "code",
        "colab": {}
      },
      "source": [
        "board[1][1]=2"
      ],
      "execution_count": 0,
      "outputs": []
    },
    {
      "cell_type": "code",
      "metadata": {
        "id": "ptGtQ4BfbRrK",
        "colab_type": "code",
        "colab": {
          "base_uri": "https://localhost:8080/",
          "height": 34
        },
        "outputId": "e64fde0c-09d5-4346-89ad-c53546fee88e"
      },
      "source": [
        "diag_win(board,2)"
      ],
      "execution_count": 155,
      "outputs": [
        {
          "output_type": "execute_result",
          "data": {
            "text/plain": [
              "True"
            ]
          },
          "metadata": {
            "tags": []
          },
          "execution_count": 155
        }
      ]
    },
    {
      "cell_type": "markdown",
      "metadata": {
        "id": "qELeBuqhcUW2",
        "colab_type": "text"
      },
      "source": [
        "#9"
      ]
    },
    {
      "cell_type": "code",
      "metadata": {
        "id": "NCvrp7ymb8_f",
        "colab_type": "code",
        "colab": {}
      },
      "source": [
        "def evaluate(board):\n",
        "    winner = 0\n",
        "    for player in [1, 2]:\n",
        "        if row_win(board,player) or col_win(board,player) or diag_win(board,player):\n",
        "          winner = player\n",
        "        pass\n",
        "    if np.all(board != 0) and winner == 0:\n",
        "        winner = -1\n",
        "    return winner"
      ],
      "execution_count": 0,
      "outputs": []
    },
    {
      "cell_type": "code",
      "metadata": {
        "id": "AG4w5UFadwcl",
        "colab_type": "code",
        "colab": {
          "base_uri": "https://localhost:8080/",
          "height": 34
        },
        "outputId": "e37c10d5-d166-4bb4-ba6c-2c7e78cb96b6"
      },
      "source": [
        "evaluate(board)"
      ],
      "execution_count": 144,
      "outputs": [
        {
          "output_type": "execute_result",
          "data": {
            "text/plain": [
              "2"
            ]
          },
          "metadata": {
            "tags": []
          },
          "execution_count": 144
        }
      ]
    },
    {
      "cell_type": "code",
      "metadata": {
        "id": "yUFZZnjCi8ss",
        "colab_type": "code",
        "colab": {
          "base_uri": "https://localhost:8080/",
          "height": 85
        },
        "outputId": "19bf3f82-4aaa-4383-b94e-a3e6148eb104"
      },
      "source": [
        "random.seed(7)\n",
        "b,player= create_board(),1\n",
        "for i in range(9):\n",
        "  random_place(b,player)\n",
        "  if player == 1:\n",
        "    player=2\n",
        "  else:\n",
        "    player =1\n",
        "print(b)\n",
        "print(evaluate(b))"
      ],
      "execution_count": 245,
      "outputs": [
        {
          "output_type": "stream",
          "text": [
            "[[1 2 2]\n",
            " [2 1 1]\n",
            " [1 1 2]]\n",
            "-1\n"
          ],
          "name": "stdout"
        }
      ]
    },
    {
      "cell_type": "markdown",
      "metadata": {
        "id": "foL5OF4QeOca",
        "colab_type": "text"
      },
      "source": [
        "#10"
      ]
    },
    {
      "cell_type": "code",
      "metadata": {
        "id": "tS_ohWAPeQdM",
        "colab_type": "code",
        "colab": {}
      },
      "source": [
        "random.seed(1)\n",
        "def play_game():\n",
        "  board, winner = create_board(),0\n",
        "  while winner==0:\n",
        "    for player in [1,2]:\n",
        "      random_place(board,player)\n",
        "      winner = evaluate(board)\n",
        "      if winner !=0:\n",
        "        break\n",
        "  return winner"
      ],
      "execution_count": 0,
      "outputs": []
    },
    {
      "cell_type": "code",
      "metadata": {
        "id": "CSODN1Bhf9WK",
        "colab_type": "code",
        "colab": {
          "base_uri": "https://localhost:8080/",
          "height": 34
        },
        "outputId": "cb9d0bfa-4841-4c73-9755-65429620a5ed"
      },
      "source": [
        "play_game()"
      ],
      "execution_count": 220,
      "outputs": [
        {
          "output_type": "execute_result",
          "data": {
            "text/plain": [
              "1"
            ]
          },
          "metadata": {
            "tags": []
          },
          "execution_count": 220
        }
      ]
    },
    {
      "cell_type": "code",
      "metadata": {
        "id": "aPoStyxJfcli",
        "colab_type": "code",
        "colab": {
          "base_uri": "https://localhost:8080/",
          "height": 34
        },
        "outputId": "6b46ce97-88a5-4b36-af8b-f654d962c296"
      },
      "source": [
        "results=[]\n",
        "random.seed(1)\n",
        "for i in range(1000):\n",
        "  results.append(play_game())\n",
        "results\n",
        "results = np.array(results)\n",
        "(results==1).sum()"
      ],
      "execution_count": 187,
      "outputs": [
        {
          "output_type": "execute_result",
          "data": {
            "text/plain": [
              "591"
            ]
          },
          "metadata": {
            "tags": []
          },
          "execution_count": 187
        }
      ]
    },
    {
      "cell_type": "markdown",
      "metadata": {
        "id": "rHktrr5hlitW",
        "colab_type": "text"
      },
      "source": [
        "#11\n",
        "\n"
      ]
    },
    {
      "cell_type": "code",
      "metadata": {
        "id": "EeW88ACbllLp",
        "colab_type": "code",
        "colab": {}
      },
      "source": [
        "random.seed(1)\n",
        "def play_strategic_game():\n",
        "  board, winner = create_board(),0\n",
        "  player =2\n",
        "  board[1,1]=1\n",
        "  while winner==0:\n",
        "    for player in [2,1]:\n",
        "      random_place(board,player)\n",
        "      winner = evaluate(board)\n",
        "      if winner !=0:\n",
        "        break\n",
        "  return winner"
      ],
      "execution_count": 0,
      "outputs": []
    },
    {
      "cell_type": "code",
      "metadata": {
        "id": "pneOUb1CmD2J",
        "colab_type": "code",
        "colab": {
          "base_uri": "https://localhost:8080/",
          "height": 34
        },
        "outputId": "3ef499ec-1587-433e-c20b-d616cf31e7ce"
      },
      "source": [
        "random.seed(1)\n",
        "results =[]\n",
        "for i in range(1000):\n",
        "  results.append(play_strategic_game())\n",
        "results.count(1)"
      ],
      "execution_count": 216,
      "outputs": [
        {
          "output_type": "execute_result",
          "data": {
            "text/plain": [
              "716"
            ]
          },
          "metadata": {
            "tags": []
          },
          "execution_count": 216
        }
      ]
    }
  ]
}