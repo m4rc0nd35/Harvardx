{
  "nbformat": 4,
  "nbformat_minor": 0,
  "metadata": {
    "colab": {
      "name": "CaseStudy2Homework.ipynb",
      "provenance": [],
      "toc_visible": true,
      "mount_file_id": "1dTxSqL83PuNeSat_M-nbyqvoIsEBIgHz",
      "authorship_tag": "ABX9TyPPttXQvhkS8l+iYi3wwZpb",
      "include_colab_link": true
    },
    "kernelspec": {
      "name": "python3",
      "display_name": "Python 3"
    }
  },
  "cells": [
    {
      "cell_type": "markdown",
      "metadata": {
        "id": "view-in-github",
        "colab_type": "text"
      },
      "source": [
        "<a href=\"https://colab.research.google.com/github/vini1lol/Havardx/blob/master/CaseStudy2Homework.ipynb\" target=\"_parent\"><img src=\"https://colab.research.google.com/assets/colab-badge.svg\" alt=\"Open In Colab\"/></a>"
      ]
    },
    {
      "cell_type": "code",
      "metadata": {
        "id": "tXbtPuJKkkd0",
        "colab_type": "code",
        "colab": {}
      },
      "source": [
        "import os \n",
        "import pandas as pd \n",
        "import numpy as np \n",
        "from collections import Counter\n",
        "\n",
        "\n",
        "def count_words_fast(text): \n",
        "    text = text.lower() \n",
        "    skips = [\".\", \",\", \";\", \":\", \"'\", '\"', \"\\n\", \"!\", \"?\", \"(\", \")\"] \n",
        "    for ch in skips: \n",
        "        text = text.replace(ch, \"\") \n",
        "    word_counts = Counter(text.split(\" \")) \n",
        "    return word_counts\n",
        "\n",
        "def word_stats(word_counts): \n",
        "    num_unique = len(word_counts) \n",
        "    counts = word_counts.values() \n",
        "    return (num_unique, counts)"
      ],
      "execution_count": 0,
      "outputs": []
    },
    {
      "cell_type": "markdown",
      "metadata": {
        "id": "pfwBeoJ5luv4",
        "colab_type": "text"
      },
      "source": [
        "#1"
      ]
    },
    {
      "cell_type": "code",
      "metadata": {
        "id": "MnLzuPTTlJEk",
        "colab_type": "code",
        "colab": {
          "base_uri": "https://localhost:8080/",
          "height": 142
        },
        "outputId": "a3bfc399-5f08-4f3d-f9bc-c42cd538ca41"
      },
      "source": [
        "hamlets = pd.read_csv(\"/content/drive/My Drive/havardx/Using Python for Research/week 3/hamlets.csv\")\n",
        "hamlets"
      ],
      "execution_count": 102,
      "outputs": [
        {
          "output_type": "execute_result",
          "data": {
            "text/html": [
              "<div>\n",
              "<style scoped>\n",
              "    .dataframe tbody tr th:only-of-type {\n",
              "        vertical-align: middle;\n",
              "    }\n",
              "\n",
              "    .dataframe tbody tr th {\n",
              "        vertical-align: top;\n",
              "    }\n",
              "\n",
              "    .dataframe thead th {\n",
              "        text-align: right;\n",
              "    }\n",
              "</style>\n",
              "<table border=\"1\" class=\"dataframe\">\n",
              "  <thead>\n",
              "    <tr style=\"text-align: right;\">\n",
              "      <th></th>\n",
              "      <th>Unnamed: 0</th>\n",
              "      <th>language</th>\n",
              "      <th>text</th>\n",
              "    </tr>\n",
              "  </thead>\n",
              "  <tbody>\n",
              "    <tr>\n",
              "      <th>0</th>\n",
              "      <td>1</td>\n",
              "      <td>English</td>\n",
              "      <td>The Tragedie of Hamlet\\n                      ...</td>\n",
              "    </tr>\n",
              "    <tr>\n",
              "      <th>1</th>\n",
              "      <td>2</td>\n",
              "      <td>German</td>\n",
              "      <td>Hamlet, Prinz von Dännemark.\\n                ...</td>\n",
              "    </tr>\n",
              "    <tr>\n",
              "      <th>2</th>\n",
              "      <td>3</td>\n",
              "      <td>Portuguese</td>\n",
              "      <td>HAMLET\\n                             DRAMA EM ...</td>\n",
              "    </tr>\n",
              "  </tbody>\n",
              "</table>\n",
              "</div>"
            ],
            "text/plain": [
              "   Unnamed: 0    language                                               text\n",
              "0           1     English  The Tragedie of Hamlet\\n                      ...\n",
              "1           2      German  Hamlet, Prinz von Dännemark.\\n                ...\n",
              "2           3  Portuguese  HAMLET\\n                             DRAMA EM ..."
            ]
          },
          "metadata": {
            "tags": []
          },
          "execution_count": 102
        }
      ]
    },
    {
      "cell_type": "code",
      "metadata": {
        "id": "k3hHnTSlmdRq",
        "colab_type": "code",
        "colab": {
          "base_uri": "https://localhost:8080/",
          "height": 34
        },
        "outputId": "8a107c80-faf8-4982-a09f-d80389e34b43"
      },
      "source": [
        "language, text = hamlets['language'][0] , hamlets[\"text\"][0]\n",
        "counted_text = count_words_fast(text)\n",
        "counted_text[\"hamlet\"]"
      ],
      "execution_count": 103,
      "outputs": [
        {
          "output_type": "execute_result",
          "data": {
            "text/plain": [
              "97"
            ]
          },
          "metadata": {
            "tags": []
          },
          "execution_count": 103
        }
      ]
    },
    {
      "cell_type": "code",
      "metadata": {
        "id": "06-czxVLoRvG",
        "colab_type": "code",
        "colab": {}
      },
      "source": [
        "data = pd.DataFrame(columns=[\"word\",\"count\"])"
      ],
      "execution_count": 0,
      "outputs": []
    },
    {
      "cell_type": "code",
      "metadata": {
        "id": "KBq7rLOQomxW",
        "colab_type": "code",
        "colab": {}
      },
      "source": [
        "data[\"word\"] = counted_text.keys()\n",
        "data[\"count\"] = counted_text.values()"
      ],
      "execution_count": 0,
      "outputs": []
    },
    {
      "cell_type": "code",
      "metadata": {
        "id": "RjyNWtWEpEsC",
        "colab_type": "code",
        "colab": {
          "base_uri": "https://localhost:8080/",
          "height": 80
        },
        "outputId": "575299bf-c33a-49ab-c527-50d47da759a8"
      },
      "source": [
        "data[data[\"word\"]==\"hamlet\"]"
      ],
      "execution_count": 106,
      "outputs": [
        {
          "output_type": "execute_result",
          "data": {
            "text/html": [
              "<div>\n",
              "<style scoped>\n",
              "    .dataframe tbody tr th:only-of-type {\n",
              "        vertical-align: middle;\n",
              "    }\n",
              "\n",
              "    .dataframe tbody tr th {\n",
              "        vertical-align: top;\n",
              "    }\n",
              "\n",
              "    .dataframe thead th {\n",
              "        text-align: right;\n",
              "    }\n",
              "</style>\n",
              "<table border=\"1\" class=\"dataframe\">\n",
              "  <thead>\n",
              "    <tr style=\"text-align: right;\">\n",
              "      <th></th>\n",
              "      <th>word</th>\n",
              "      <th>count</th>\n",
              "    </tr>\n",
              "  </thead>\n",
              "  <tbody>\n",
              "    <tr>\n",
              "      <th>3</th>\n",
              "      <td>hamlet</td>\n",
              "      <td>97</td>\n",
              "    </tr>\n",
              "  </tbody>\n",
              "</table>\n",
              "</div>"
            ],
            "text/plain": [
              "     word  count\n",
              "3  hamlet     97"
            ]
          },
          "metadata": {
            "tags": []
          },
          "execution_count": 106
        }
      ]
    },
    {
      "cell_type": "markdown",
      "metadata": {
        "id": "-NTnsHMepW10",
        "colab_type": "text"
      },
      "source": [
        "#2"
      ]
    },
    {
      "cell_type": "code",
      "metadata": {
        "id": "_IkfUdiJpWBZ",
        "colab_type": "code",
        "colab": {
          "base_uri": "https://localhost:8080/",
          "height": 204
        },
        "outputId": "e9ab4409-4c41-4af1-ba1f-d3dda60c08f9"
      },
      "source": [
        "length =[]\n",
        "for key in counted_text.keys():\n",
        "  length.append(len(key))\n",
        "data['length'] = length\n",
        "frequency =[]\n",
        "for i in data[\"count\"]:\n",
        "  if i > 10:\n",
        "    frequency.append(\"frequent\")\n",
        "  if i>1 and i<=10:\n",
        "    frequency.append(\"infrequent\")\n",
        "  if i  == 1:\n",
        "    frequency.append(\"unique\")\n",
        "data[\"frequency\"] = frequency\n",
        "data.head()"
      ],
      "execution_count": 107,
      "outputs": [
        {
          "output_type": "execute_result",
          "data": {
            "text/html": [
              "<div>\n",
              "<style scoped>\n",
              "    .dataframe tbody tr th:only-of-type {\n",
              "        vertical-align: middle;\n",
              "    }\n",
              "\n",
              "    .dataframe tbody tr th {\n",
              "        vertical-align: top;\n",
              "    }\n",
              "\n",
              "    .dataframe thead th {\n",
              "        text-align: right;\n",
              "    }\n",
              "</style>\n",
              "<table border=\"1\" class=\"dataframe\">\n",
              "  <thead>\n",
              "    <tr style=\"text-align: right;\">\n",
              "      <th></th>\n",
              "      <th>word</th>\n",
              "      <th>count</th>\n",
              "      <th>length</th>\n",
              "      <th>frequency</th>\n",
              "    </tr>\n",
              "  </thead>\n",
              "  <tbody>\n",
              "    <tr>\n",
              "      <th>0</th>\n",
              "      <td>the</td>\n",
              "      <td>935</td>\n",
              "      <td>3</td>\n",
              "      <td>frequent</td>\n",
              "    </tr>\n",
              "    <tr>\n",
              "      <th>1</th>\n",
              "      <td>tragedie</td>\n",
              "      <td>3</td>\n",
              "      <td>8</td>\n",
              "      <td>infrequent</td>\n",
              "    </tr>\n",
              "    <tr>\n",
              "      <th>2</th>\n",
              "      <td>of</td>\n",
              "      <td>576</td>\n",
              "      <td>2</td>\n",
              "      <td>frequent</td>\n",
              "    </tr>\n",
              "    <tr>\n",
              "      <th>3</th>\n",
              "      <td>hamlet</td>\n",
              "      <td>97</td>\n",
              "      <td>6</td>\n",
              "      <td>frequent</td>\n",
              "    </tr>\n",
              "    <tr>\n",
              "      <th>4</th>\n",
              "      <td></td>\n",
              "      <td>45513</td>\n",
              "      <td>0</td>\n",
              "      <td>frequent</td>\n",
              "    </tr>\n",
              "  </tbody>\n",
              "</table>\n",
              "</div>"
            ],
            "text/plain": [
              "       word  count  length   frequency\n",
              "0       the    935       3    frequent\n",
              "1  tragedie      3       8  infrequent\n",
              "2        of    576       2    frequent\n",
              "3    hamlet     97       6    frequent\n",
              "4            45513       0    frequent"
            ]
          },
          "metadata": {
            "tags": []
          },
          "execution_count": 107
        }
      ]
    },
    {
      "cell_type": "code",
      "metadata": {
        "id": "Jk2alTYPr4BG",
        "colab_type": "code",
        "colab": {
          "base_uri": "https://localhost:8080/",
          "height": 34
        },
        "outputId": "21b3342d-8c73-4ccf-f5e4-23140a618f50"
      },
      "source": [
        "data[data[\"frequency\"] == \"unique\"].shape"
      ],
      "execution_count": 108,
      "outputs": [
        {
          "output_type": "execute_result",
          "data": {
            "text/plain": [
              "(3348, 4)"
            ]
          },
          "metadata": {
            "tags": []
          },
          "execution_count": 108
        }
      ]
    },
    {
      "cell_type": "markdown",
      "metadata": {
        "id": "zAVeqSXBsIUM",
        "colab_type": "text"
      },
      "source": [
        "#4"
      ]
    },
    {
      "cell_type": "code",
      "metadata": {
        "id": "3yeeTtFosJu-",
        "colab_type": "code",
        "colab": {}
      },
      "source": [
        "sub_data = pd.DataFrame(columns=[\"language\",\"frequency\",\"mean_word_length\",\"num_words\"])"
      ],
      "execution_count": 0,
      "outputs": []
    },
    {
      "cell_type": "code",
      "metadata": {
        "id": "wOQ1L2aisv7H",
        "colab_type": "code",
        "colab": {
          "base_uri": "https://localhost:8080/",
          "height": 142
        },
        "outputId": "cdfc235b-b74d-4b8c-a81a-6834fec327a4"
      },
      "source": [
        "sub_data.language = language\n",
        "sub_data.frequency = [\"frequent\", \"infrequent\", \"unique\"]\n",
        "mean=[]\n",
        "d=data[data.frequency == \"frequent\"].length\n",
        "mean.append(sum(d)/len(d))\n",
        "d=data[data.frequency == \"infrequent\"].length\n",
        "mean.append(sum(d)/len(d))\n",
        "d=data[data.frequency == \"unique\"].length\n",
        "mean.append(sum(d)/len(d))\n",
        "a=[]\n",
        "a.append(data[data.frequency == \"frequent\"].shape[0])\n",
        "a.append(data[data.frequency == \"infrequent\"].shape[0])\n",
        "a.append(data[data.frequency == \"unique\"].shape[0])\n",
        "sub_data.mean_word_length = mean \n",
        "sub_data.num_words = a\n",
        "sub_data"
      ],
      "execution_count": 110,
      "outputs": [
        {
          "output_type": "execute_result",
          "data": {
            "text/html": [
              "<div>\n",
              "<style scoped>\n",
              "    .dataframe tbody tr th:only-of-type {\n",
              "        vertical-align: middle;\n",
              "    }\n",
              "\n",
              "    .dataframe tbody tr th {\n",
              "        vertical-align: top;\n",
              "    }\n",
              "\n",
              "    .dataframe thead th {\n",
              "        text-align: right;\n",
              "    }\n",
              "</style>\n",
              "<table border=\"1\" class=\"dataframe\">\n",
              "  <thead>\n",
              "    <tr style=\"text-align: right;\">\n",
              "      <th></th>\n",
              "      <th>language</th>\n",
              "      <th>frequency</th>\n",
              "      <th>mean_word_length</th>\n",
              "      <th>num_words</th>\n",
              "    </tr>\n",
              "  </thead>\n",
              "  <tbody>\n",
              "    <tr>\n",
              "      <th>0</th>\n",
              "      <td>NaN</td>\n",
              "      <td>frequent</td>\n",
              "      <td>4.371517</td>\n",
              "      <td>323</td>\n",
              "    </tr>\n",
              "    <tr>\n",
              "      <th>1</th>\n",
              "      <td>NaN</td>\n",
              "      <td>infrequent</td>\n",
              "      <td>5.825243</td>\n",
              "      <td>1442</td>\n",
              "    </tr>\n",
              "    <tr>\n",
              "      <th>2</th>\n",
              "      <td>NaN</td>\n",
              "      <td>unique</td>\n",
              "      <td>7.005675</td>\n",
              "      <td>3348</td>\n",
              "    </tr>\n",
              "  </tbody>\n",
              "</table>\n",
              "</div>"
            ],
            "text/plain": [
              "  language   frequency  mean_word_length  num_words\n",
              "0      NaN    frequent          4.371517        323\n",
              "1      NaN  infrequent          5.825243       1442\n",
              "2      NaN      unique          7.005675       3348"
            ]
          },
          "metadata": {
            "tags": []
          },
          "execution_count": 110
        }
      ]
    },
    {
      "cell_type": "markdown",
      "metadata": {
        "id": "LOcSyZCwzh2L",
        "colab_type": "text"
      },
      "source": [
        "#5"
      ]
    },
    {
      "cell_type": "code",
      "metadata": {
        "id": "PAEMgB16zjMj",
        "colab_type": "code",
        "colab": {}
      },
      "source": [
        "def summarize_text(language, text):\n",
        "    counted_text = count_words_fast(text)\n",
        "\n",
        "    data = pd.DataFrame({\n",
        "        \"word\": list(counted_text.keys()),\n",
        "        \"count\": list(counted_text.values())\n",
        "    })\n",
        "    \n",
        "    data.loc[data[\"count\"] > 10,  \"frequency\"] = \"frequent\"\n",
        "    data.loc[data[\"count\"] <= 10, \"frequency\"] = \"infrequent\"\n",
        "    data.loc[data[\"count\"] == 1,  \"frequency\"] = \"unique\"\n",
        "    \n",
        "    data[\"length\"] = data[\"word\"].apply(len)\n",
        "    \n",
        "    sub_data = pd.DataFrame({\n",
        "        \"language\": language,\n",
        "        \"frequency\": [\"frequent\",\"infrequent\",\"unique\"],\n",
        "        \"mean_word_length\": data.groupby(by = \"frequency\")[\"length\"].mean(),\n",
        "        \"num_words\": data.groupby(by = \"frequency\").size()\n",
        "    })\n",
        "    \n",
        "    return(sub_data)"
      ],
      "execution_count": 0,
      "outputs": []
    },
    {
      "cell_type": "code",
      "metadata": {
        "id": "HC5s5sK67QN8",
        "colab_type": "code",
        "colab": {}
      },
      "source": [
        "grouped_data = pd.DataFrame()"
      ],
      "execution_count": 0,
      "outputs": []
    },
    {
      "cell_type": "code",
      "metadata": {
        "id": "pHFdircH7cxG",
        "colab_type": "code",
        "colab": {
          "base_uri": "https://localhost:8080/",
          "height": 359
        },
        "outputId": "d1603186-588a-473d-b5ed-22cc1e36974f"
      },
      "source": [
        "for ith in range(3):\n",
        "  language, text = hamlets.language[ith], hamlets.text[ith]\n",
        "  sub_data = summarize_text(language,text)\n",
        "  grouped_data =grouped_data.append(sub_data)\n",
        "grouped_data"
      ],
      "execution_count": 113,
      "outputs": [
        {
          "output_type": "execute_result",
          "data": {
            "text/html": [
              "<div>\n",
              "<style scoped>\n",
              "    .dataframe tbody tr th:only-of-type {\n",
              "        vertical-align: middle;\n",
              "    }\n",
              "\n",
              "    .dataframe tbody tr th {\n",
              "        vertical-align: top;\n",
              "    }\n",
              "\n",
              "    .dataframe thead th {\n",
              "        text-align: right;\n",
              "    }\n",
              "</style>\n",
              "<table border=\"1\" class=\"dataframe\">\n",
              "  <thead>\n",
              "    <tr style=\"text-align: right;\">\n",
              "      <th></th>\n",
              "      <th>language</th>\n",
              "      <th>frequency</th>\n",
              "      <th>mean_word_length</th>\n",
              "      <th>num_words</th>\n",
              "    </tr>\n",
              "    <tr>\n",
              "      <th>frequency</th>\n",
              "      <th></th>\n",
              "      <th></th>\n",
              "      <th></th>\n",
              "      <th></th>\n",
              "    </tr>\n",
              "  </thead>\n",
              "  <tbody>\n",
              "    <tr>\n",
              "      <th>frequent</th>\n",
              "      <td>English</td>\n",
              "      <td>frequent</td>\n",
              "      <td>4.371517</td>\n",
              "      <td>323</td>\n",
              "    </tr>\n",
              "    <tr>\n",
              "      <th>infrequent</th>\n",
              "      <td>English</td>\n",
              "      <td>infrequent</td>\n",
              "      <td>5.825243</td>\n",
              "      <td>1442</td>\n",
              "    </tr>\n",
              "    <tr>\n",
              "      <th>unique</th>\n",
              "      <td>English</td>\n",
              "      <td>unique</td>\n",
              "      <td>7.005675</td>\n",
              "      <td>3348</td>\n",
              "    </tr>\n",
              "    <tr>\n",
              "      <th>frequent</th>\n",
              "      <td>German</td>\n",
              "      <td>frequent</td>\n",
              "      <td>4.528053</td>\n",
              "      <td>303</td>\n",
              "    </tr>\n",
              "    <tr>\n",
              "      <th>infrequent</th>\n",
              "      <td>German</td>\n",
              "      <td>infrequent</td>\n",
              "      <td>6.481830</td>\n",
              "      <td>1596</td>\n",
              "    </tr>\n",
              "    <tr>\n",
              "      <th>unique</th>\n",
              "      <td>German</td>\n",
              "      <td>unique</td>\n",
              "      <td>9.006987</td>\n",
              "      <td>5582</td>\n",
              "    </tr>\n",
              "    <tr>\n",
              "      <th>frequent</th>\n",
              "      <td>Portuguese</td>\n",
              "      <td>frequent</td>\n",
              "      <td>4.417625</td>\n",
              "      <td>261</td>\n",
              "    </tr>\n",
              "    <tr>\n",
              "      <th>infrequent</th>\n",
              "      <td>Portuguese</td>\n",
              "      <td>infrequent</td>\n",
              "      <td>6.497870</td>\n",
              "      <td>1643</td>\n",
              "    </tr>\n",
              "    <tr>\n",
              "      <th>unique</th>\n",
              "      <td>Portuguese</td>\n",
              "      <td>unique</td>\n",
              "      <td>8.669778</td>\n",
              "      <td>5357</td>\n",
              "    </tr>\n",
              "  </tbody>\n",
              "</table>\n",
              "</div>"
            ],
            "text/plain": [
              "              language   frequency  mean_word_length  num_words\n",
              "frequency                                                      \n",
              "frequent       English    frequent          4.371517        323\n",
              "infrequent     English  infrequent          5.825243       1442\n",
              "unique         English      unique          7.005675       3348\n",
              "frequent        German    frequent          4.528053        303\n",
              "infrequent      German  infrequent          6.481830       1596\n",
              "unique          German      unique          9.006987       5582\n",
              "frequent    Portuguese    frequent          4.417625        261\n",
              "infrequent  Portuguese  infrequent          6.497870       1643\n",
              "unique      Portuguese      unique          8.669778       5357"
            ]
          },
          "metadata": {
            "tags": []
          },
          "execution_count": 113
        }
      ]
    },
    {
      "cell_type": "markdown",
      "metadata": {
        "id": "z6vI673wAb3Y",
        "colab_type": "text"
      },
      "source": [
        "#6"
      ]
    },
    {
      "cell_type": "code",
      "metadata": {
        "id": "ZQQkis5hAeiZ",
        "colab_type": "code",
        "colab": {
          "base_uri": "https://localhost:8080/",
          "height": 388
        },
        "outputId": "d7fd9cb9-1151-4fb2-f92a-5d727cd30289"
      },
      "source": [
        "colors = {\"Portuguese\": \"green\", \"English\": \"blue\", \"German\": \"red\"}\n",
        "markers = {\"frequent\": \"o\",\"infrequent\": \"s\", \"unique\": \"^\"}\n",
        "import matplotlib.pyplot as plt\n",
        "plt.figure(figsize=(12,6))\n",
        "for i in range(grouped_data.shape[0]):\n",
        "    row = grouped_data.iloc[i]\n",
        "    plt.plot(row.mean_word_length, row.num_words,\n",
        "        marker=markers[row.frequency],\n",
        "        color = colors[row.language],\n",
        "        markersize = 10\n",
        "    )\n",
        "\n",
        "color_legend = []\n",
        "marker_legend = []\n",
        "for color in colors:\n",
        "    color_legend.append(\n",
        "        plt.plot([], [],\n",
        "        color=colors[color],\n",
        "        marker=\"o\",\n",
        "        label = color, markersize = 10, linestyle=\"None\")\n",
        "    )\n",
        "for marker in markers:\n",
        "    marker_legend.append(\n",
        "        plt.plot([], [],\n",
        "        color=\"k\",\n",
        "        marker=markers[marker],\n",
        "        label = marker, markersize = 10, linestyle=\"None\")\n",
        "    )\n",
        "plt.legend(numpoints=1, loc = \"upper left\")\n",
        "\n",
        "plt.xlabel(\"Mean Word Length\")\n",
        "plt.ylabel(\"Number of Words\")\n",
        "plt.show()"
      ],
      "execution_count": 118,
      "outputs": [
        {
          "output_type": "display_data",
          "data": {
            "image/png": "[encoded data removed]",
            "text/plain": [
              "<Figure size 864x432 with 1 Axes>"
            ]
          },
          "metadata": {
            "tags": [],
            "needs_background": "light"
          }
        }
      ]
    }
  ]
}