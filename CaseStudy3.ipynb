{
  "nbformat": 4,
  "nbformat_minor": 0,
  "metadata": {
    "colab": {
      "name": "CaseStudy3.ipynb",
      "provenance": [],
      "authorship_tag": "ABX9TyMV6ywfvWGA1Lnub2wiFRUo",
      "include_colab_link": true
    },
    "kernelspec": {
      "name": "python3",
      "display_name": "Python 3"
    }
  },
  "cells": [
    {
      "cell_type": "markdown",
      "metadata": {
        "id": "view-in-github",
        "colab_type": "text"
      },
      "source": [
        "<a href=\"https://colab.research.google.com/github/vini1lol/Harvardx/blob/master/CaseStudy3.ipynb\" target=\"_parent\"><img src=\"https://colab.research.google.com/assets/colab-badge.svg\" alt=\"Open In Colab\"/></a>"
      ]
    },
    {
      "cell_type": "code",
      "metadata": {
        "id": "2yjTlnzm64IX",
        "colab_type": "code",
        "colab": {}
      },
      "source": [
        "import numpy as np\n",
        "import random"
      ],
      "execution_count": 0,
      "outputs": []
    },
    {
      "cell_type": "code",
      "metadata": {
        "id": "B5aCGp5V9hnj",
        "colab_type": "code",
        "colab": {}
      },
      "source": [
        "p1 = np.array([1,1])\n",
        "p2 = np.array([4,4])"
      ],
      "execution_count": 0,
      "outputs": []
    },
    {
      "cell_type": "code",
      "metadata": {
        "id": "p5T3wDRd9wH8",
        "colab_type": "code",
        "colab": {
          "base_uri": "https://localhost:8080/",
          "height": 34
        },
        "outputId": "c9e974a6-0074-4614-cda8-812ac8639dc2"
      },
      "source": [
        "np.sqrt(np.sum(np.power(p1-p2,2)))"
      ],
      "execution_count": 4,
      "outputs": [
        {
          "output_type": "execute_result",
          "data": {
            "text/plain": [
              "4.242640687119285"
            ]
          },
          "metadata": {
            "tags": []
          },
          "execution_count": 4
        }
      ]
    },
    {
      "cell_type": "code",
      "metadata": {
        "id": "5DuY4sXl99KT",
        "colab_type": "code",
        "colab": {}
      },
      "source": [
        "def distance_a(p1,p2):\n",
        "  \"\"\"\n",
        "  Find the distance between points p1 and p2.\n",
        "  \"\"\"\n",
        "  return np.sqrt(np.sum(np.power(p1-p2,2)))"
      ],
      "execution_count": 0,
      "outputs": []
    },
    {
      "cell_type": "code",
      "metadata": {
        "id": "V8OzwPS4-s5t",
        "colab_type": "code",
        "colab": {
          "base_uri": "https://localhost:8080/",
          "height": 34
        },
        "outputId": "b2579445-426a-46ec-ddfe-3af2d4f51ed9"
      },
      "source": [
        "distance(p1,p2)"
      ],
      "execution_count": 7,
      "outputs": [
        {
          "output_type": "execute_result",
          "data": {
            "text/plain": [
              "4.242640687119285"
            ]
          },
          "metadata": {
            "tags": []
          },
          "execution_count": 7
        }
      ]
    },
    {
      "cell_type": "code",
      "metadata": {
        "id": "O6hvdfBY-v2i",
        "colab_type": "code",
        "colab": {}
      },
      "source": [
        "def majority_vote(votes):\n",
        "  vote_counts= {}\n",
        "  for vote in votes:\n",
        "    if vote in vote_counts:\n",
        "      vote_counts[vote] +=1\n",
        "    else:\n",
        "      vote_counts[vote] = 1\n",
        "  winner = []\n",
        "  max_count = max(vote_counts.values())\n",
        "  for vote,count in vote_counts.items():\n",
        "    if count == max_count:\n",
        "      winner.append(vote)\n",
        "  return random.choice(winner)"
      ],
      "execution_count": 0,
      "outputs": []
    },
    {
      "cell_type": "code",
      "metadata": {
        "id": "U4x-uJqQ_-_d",
        "colab_type": "code",
        "colab": {}
      },
      "source": [
        "votes = [1,2,3,1,2,3,1,2,3,3,3,3,2,2,2]"
      ],
      "execution_count": 0,
      "outputs": []
    },
    {
      "cell_type": "code",
      "metadata": {
        "id": "ksEemYm-AFvk",
        "colab_type": "code",
        "colab": {
          "base_uri": "https://localhost:8080/",
          "height": 34
        },
        "outputId": "c80a54b4-2e5c-4978-aab7-ff7c32cc21b8"
      },
      "source": [
        "majority_vote(votes)"
      ],
      "execution_count": 27,
      "outputs": [
        {
          "output_type": "execute_result",
          "data": {
            "text/plain": [
              "2"
            ]
          },
          "metadata": {
            "tags": []
          },
          "execution_count": 27
        }
      ]
    },
    {
      "cell_type": "code",
      "metadata": {
        "id": "WW4XGIASB41x",
        "colab_type": "code",
        "colab": {}
      },
      "source": [
        "import scipy.stats as ss\n",
        "def majority_vote_short(votes):\n",
        "  mode,count=ss.mstats.mode(votes)\n",
        "  return mode\n"
      ],
      "execution_count": 0,
      "outputs": []
    },
    {
      "cell_type": "code",
      "metadata": {
        "id": "C7da0xAyDO4O",
        "colab_type": "code",
        "colab": {
          "base_uri": "https://localhost:8080/",
          "height": 34
        },
        "outputId": "f78dbdea-2409-4bbb-dc0d-3eab75e456b0"
      },
      "source": [
        "majority_vote_short(votes)"
      ],
      "execution_count": 30,
      "outputs": [
        {
          "output_type": "execute_result",
          "data": {
            "text/plain": [
              "array([2.])"
            ]
          },
          "metadata": {
            "tags": []
          },
          "execution_count": 30
        }
      ]
    },
    {
      "cell_type": "code",
      "metadata": {
        "id": "ljZjX4adDTCj",
        "colab_type": "code",
        "colab": {}
      },
      "source": [
        "points = np.array([[1,1], [1,2], [1,3], [2,1], [2,2], [2,3], [3,1], [3,2], [3,3]])\n",
        "p = np.array([2.5,2])"
      ],
      "execution_count": 0,
      "outputs": []
    },
    {
      "cell_type": "code",
      "metadata": {
        "id": "PD-R6OqWFMaH",
        "colab_type": "code",
        "colab": {
          "base_uri": "https://localhost:8080/",
          "height": 282
        },
        "outputId": "3eebd542-d056-4ddc-8a39-2cc73b7b75a5"
      },
      "source": [
        "import matplotlib.pyplot as plt\n",
        "plt.plot(points[:,0],points[:,1],\"ro\")\n",
        "plt.plot(p[0],p[1],\"bo\")"
      ],
      "execution_count": 35,
      "outputs": [
        {
          "output_type": "execute_result",
          "data": {
            "text/plain": [
              "[<matplotlib.lines.Line2D at 0x7ff6f704add8>]"
            ]
          },
          "metadata": {
            "tags": []
          },
          "execution_count": 35
        },
        {
          "output_type": "display_data",
          "data": {
            "image/png": "[encoded data removed]",
            "text/plain": [
              "<Figure size 432x288 with 1 Axes>"
            ]
          },
          "metadata": {
            "tags": [],
            "needs_background": "light"
          }
        }
      ]
    },
    {
      "cell_type": "code",
      "metadata": {
        "id": "amUut9eNF4_b",
        "colab_type": "code",
        "colab": {}
      },
      "source": [
        "distance = np.zeros(points.shape[0])\n",
        "for i in range(len(distance)):\n",
        "  distance[i] = distance_a(p,points[i])"
      ],
      "execution_count": 0,
      "outputs": []
    },
    {
      "cell_type": "code",
      "metadata": {
        "id": "0BzxKRPKGy4j",
        "colab_type": "code",
        "colab": {
          "base_uri": "https://localhost:8080/",
          "height": 51
        },
        "outputId": "13ee3cf7-dbcf-4dbd-fb64-7c8b2d425502"
      },
      "source": [
        "distance"
      ],
      "execution_count": 42,
      "outputs": [
        {
          "output_type": "execute_result",
          "data": {
            "text/plain": [
              "array([1.80277564, 1.5       , 1.80277564, 1.11803399, 0.5       ,\n",
              "       1.11803399, 1.11803399, 0.5       , 1.11803399])"
            ]
          },
          "metadata": {
            "tags": []
          },
          "execution_count": 42
        }
      ]
    },
    {
      "cell_type": "code",
      "metadata": {
        "id": "gp86nGKmHIUj",
        "colab_type": "code",
        "colab": {
          "base_uri": "https://localhost:8080/",
          "height": 34
        },
        "outputId": "a4997a7a-32cc-4fae-df0c-4c32bc88bab3"
      },
      "source": [
        "ind = np.argsort(distance)\n",
        "ind"
      ],
      "execution_count": 43,
      "outputs": [
        {
          "output_type": "execute_result",
          "data": {
            "text/plain": [
              "array([4, 7, 3, 5, 6, 8, 1, 0, 2])"
            ]
          },
          "metadata": {
            "tags": []
          },
          "execution_count": 43
        }
      ]
    },
    {
      "cell_type": "code",
      "metadata": {
        "id": "k3OjWR-8Hodx",
        "colab_type": "code",
        "colab": {
          "base_uri": "https://localhost:8080/",
          "height": 51
        },
        "outputId": "b0c8703b-1a34-4bd7-9a1b-5b72809df322"
      },
      "source": [
        "distance[ind]"
      ],
      "execution_count": 44,
      "outputs": [
        {
          "output_type": "execute_result",
          "data": {
            "text/plain": [
              "array([0.5       , 0.5       , 1.11803399, 1.11803399, 1.11803399,\n",
              "       1.11803399, 1.5       , 1.80277564, 1.80277564])"
            ]
          },
          "metadata": {
            "tags": []
          },
          "execution_count": 44
        }
      ]
    },
    {
      "cell_type": "code",
      "metadata": {
        "id": "Ejh141r6HqeF",
        "colab_type": "code",
        "colab": {
          "base_uri": "https://localhost:8080/",
          "height": 34
        },
        "outputId": "a2b58ff8-7938-451c-c4b2-1c9da31ac8dc"
      },
      "source": [
        "distance[ind[0:2]]"
      ],
      "execution_count": 45,
      "outputs": [
        {
          "output_type": "execute_result",
          "data": {
            "text/plain": [
              "array([0.5, 0.5])"
            ]
          },
          "metadata": {
            "tags": []
          },
          "execution_count": 45
        }
      ]
    },
    {
      "cell_type": "code",
      "metadata": {
        "id": "6Ja5tgLnHtJz",
        "colab_type": "code",
        "colab": {}
      },
      "source": [
        "def find_nearest_neighbors(p,points,k=5):\n",
        "  distance = np.zeros(points.shape[0])\n",
        "  for i in range(len(distance)):\n",
        "    distance[i] = distance_a(p,points[i])\n",
        "  ind = np.argsort(distance)\n",
        "  return ind[:k]"
      ],
      "execution_count": 0,
      "outputs": []
    },
    {
      "cell_type": "code",
      "metadata": {
        "id": "afyEo76kIX6S",
        "colab_type": "code",
        "colab": {
          "base_uri": "https://localhost:8080/",
          "height": 51
        },
        "outputId": "03655c33-c588-410d-e2d8-78bee0926855"
      },
      "source": [
        "ind = find_nearest_neighbors(p,points,2);print(points[ind])"
      ],
      "execution_count": 47,
      "outputs": [
        {
          "output_type": "stream",
          "text": [
            "[[2 2]\n",
            " [3 2]]\n"
          ],
          "name": "stdout"
        }
      ]
    },
    {
      "cell_type": "code",
      "metadata": {
        "id": "xzJEfROJI0nW",
        "colab_type": "code",
        "colab": {}
      },
      "source": [
        "def knn_predict(p,points,outcomes,k=5):\n",
        "  ind = find_nearest_neighbors(p,points,k)\n",
        "  return majority_vote(outcomes[ind])"
      ],
      "execution_count": 0,
      "outputs": []
    },
    {
      "cell_type": "code",
      "metadata": {
        "id": "BUciwdFpJtb8",
        "colab_type": "code",
        "colab": {}
      },
      "source": [
        "outcomes = np.array([0,0,0,0,1,1,1,1,1])"
      ],
      "execution_count": 0,
      "outputs": []
    },
    {
      "cell_type": "code",
      "metadata": {
        "id": "VTjghHmGJ8vJ",
        "colab_type": "code",
        "colab": {
          "base_uri": "https://localhost:8080/",
          "height": 34
        },
        "outputId": "9d168be4-6f95-481d-f9c5-f2b863b74e74"
      },
      "source": [
        "knn_predict(np.array([2.5,2.7]),points,outcomes,2)"
      ],
      "execution_count": 50,
      "outputs": [
        {
          "output_type": "execute_result",
          "data": {
            "text/plain": [
              "1"
            ]
          },
          "metadata": {
            "tags": []
          },
          "execution_count": 50
        }
      ]
    },
    {
      "cell_type": "code",
      "metadata": {
        "id": "5-fa6svUKPSa",
        "colab_type": "code",
        "colab": {
          "base_uri": "https://localhost:8080/",
          "height": 34
        },
        "outputId": "32c680af-4998-41ca-ed5a-579b91184991"
      },
      "source": [
        "knn_predict(np.array([1.0,2.7]),points,outcomes,2)\n"
      ],
      "execution_count": 51,
      "outputs": [
        {
          "output_type": "execute_result",
          "data": {
            "text/plain": [
              "0"
            ]
          },
          "metadata": {
            "tags": []
          },
          "execution_count": 51
        }
      ]
    },
    {
      "cell_type": "code",
      "metadata": {
        "id": "DRfN4HEZKgWP",
        "colab_type": "code",
        "colab": {}
      },
      "source": [
        "def generate_synth_data(n=50):\n",
        "  points = np.concatenate((ss.norm(0,1).rvs((n,2)),ss.norm(1,1).rvs((n,2))),axis=0)\n",
        "  outcomes = np.concatenate((np.repeat(0,n),np.repeat(1,n)))\n",
        "  return (points,outcomes)"
      ],
      "execution_count": 0,
      "outputs": []
    },
    {
      "cell_type": "code",
      "metadata": {
        "id": "aROLThrZMk5g",
        "colab_type": "code",
        "colab": {
          "base_uri": "https://localhost:8080/",
          "height": 282
        },
        "outputId": "fcd90b35-2cdb-482a-bee2-e9aa4a936ed8"
      },
      "source": [
        "n=20\n",
        "(points,outcomes) = generate_synth_data(n)\n",
        "plt.figure\n",
        "plt.plot(points[:n,0],points[:n,1],\"ro\")\n",
        "plt.plot(points[n:,0],points[n:,1],\"bo\")\n"
      ],
      "execution_count": 56,
      "outputs": [
        {
          "output_type": "execute_result",
          "data": {
            "text/plain": [
              "[<matplotlib.lines.Line2D at 0x7ff6f669e5c0>]"
            ]
          },
          "metadata": {
            "tags": []
          },
          "execution_count": 56
        },
        {
          "output_type": "display_data",
          "data": {
            "image/png": "[encoded data removed]",
            "text/plain": [
              "<Figure size 432x288 with 1 Axes>"
            ]
          },
          "metadata": {
            "tags": [],
            "needs_background": "light"
          }
        }
      ]
    },
    {
      "cell_type": "code",
      "metadata": {
        "id": "tXAyUam7Uopb",
        "colab_type": "code",
        "colab": {}
      },
      "source": [
        "def make_prediction_grid(predictors,outcomes,limits,h,k):\n",
        "  (x_min,x_max,y_min,y_max) = limits\n",
        "  xs = np.arange(x_min,x_max,h)\n",
        "  ys = np.arange(y_min,y_max,h)\n",
        "  xx,yy = np.meshgrid(xs,ys)\n",
        "  prediction_grid = np.zeros(xx.shape,dtype=int)\n",
        "  for i,x in enumerate(xs):\n",
        "    for j,y in enumerate(ys):\n",
        "      p = np.array([x,y])\n",
        "      prediction_grid[j,i] = knn_predict(p,predictors,outcomes,k)\n",
        "  return (xx,yy,prediction_grid)"
      ],
      "execution_count": 0,
      "outputs": []
    },
    {
      "cell_type": "code",
      "metadata": {
        "id": "XxgfUrefXNGG",
        "colab_type": "code",
        "colab": {}
      },
      "source": [
        "def plot_prediction_grid (xx, yy, prediction_grid, filename):\n",
        "    \"\"\" Plot KNN predictions for every point on the grid.\"\"\"\n",
        "    from matplotlib.colors import ListedColormap\n",
        "    background_colormap = ListedColormap ([\"hotpink\",\"lightskyblue\", \"yellowgreen\"])\n",
        "    observation_colormap = ListedColormap ([\"red\",\"blue\",\"green\"])\n",
        "    plt.figure(figsize =(10,10))\n",
        "    plt.pcolormesh(xx, yy, prediction_grid, cmap = background_colormap, alpha = 0.5)\n",
        "    plt.scatter(predictors[:,0], predictors [:,1], c = outcomes, cmap = observation_colormap, s = 50)\n",
        "    plt.xlabel('Variable 1'); plt.ylabel('Variable 2')\n",
        "    plt.xticks(()); plt.yticks(())\n",
        "    plt.xlim (np.min(xx), np.max(xx))\n",
        "    plt.ylim (np.min(yy), np.max(yy))\n",
        "    plt.savefig(filename)"
      ],
      "execution_count": 0,
      "outputs": []
    },
    {
      "cell_type": "code",
      "metadata": {
        "id": "GKiSfCwiZvxu",
        "colab_type": "code",
        "colab": {}
      },
      "source": [
        "(predictors,outcomes) = generate_synth_data()"
      ],
      "execution_count": 0,
      "outputs": []
    },
    {
      "cell_type": "code",
      "metadata": {
        "id": "SyeSxSIVZ6Hl",
        "colab_type": "code",
        "colab": {
          "base_uri": "https://localhost:8080/",
          "height": 589
        },
        "outputId": "945a9e48-d49c-4c3b-b209-d59cd0c0bed5"
      },
      "source": [
        "k=5;filename=\"knn_synth_5.pdf\";limits=(-3,4,-3,4);h=0.1\n",
        "(xx,yy,prediction_grid) = make_prediction_grid(predictors,outcomes,limits,h,k)\n",
        "plot_prediction_grid(xx,yy,prediction_grid,filename)"
      ],
      "execution_count": 61,
      "outputs": [
        {
          "output_type": "display_data",
          "data": {
            "image/png": "[encoded data removed]",
            "text/plain": [
              "<Figure size 720x720 with 1 Axes>"
            ]
          },
          "metadata": {
            "tags": []
          }
        }
      ]
    },
    {
      "cell_type": "code",
      "metadata": {
        "id": "wk2S3GHua6-y",
        "colab_type": "code",
        "colab": {
          "base_uri": "https://localhost:8080/",
          "height": 589
        },
        "outputId": "2a93ed3c-0c65-42da-ba80-2e6c6a597671"
      },
      "source": [
        "k=50;filename=\"knn_synth_50.pdf\";limits=(-3,4,-3,4);h=0.1\n",
        "(xx,yy,prediction_grid) = make_prediction_grid(predictors,outcomes,limits,h,k)\n",
        "plot_prediction_grid(xx,yy,prediction_grid,filename)"
      ],
      "execution_count": 62,
      "outputs": [
        {
          "output_type": "display_data",
          "data": {
            "image/png": "[encoded data removed]",
            "text/plain": [
              "<Figure size 720x720 with 1 Axes>"
            ]
          },
          "metadata": {
            "tags": []
          }
        }
      ]
    },
    {
      "cell_type": "code",
      "metadata": {
        "id": "_Qe_UfWQbBPW",
        "colab_type": "code",
        "colab": {}
      },
      "source": [
        "from sklearn import datasets\n",
        "iris = datasets.load_iris()"
      ],
      "execution_count": 0,
      "outputs": []
    },
    {
      "cell_type": "code",
      "metadata": {
        "id": "1-2l6HsLbjvW",
        "colab_type": "code",
        "colab": {}
      },
      "source": [
        "predictors = iris.data[:,0:2]\n",
        "outcomes = iris.target"
      ],
      "execution_count": 0,
      "outputs": []
    },
    {
      "cell_type": "code",
      "metadata": {
        "id": "KJ-0YK9mcEbe",
        "colab_type": "code",
        "colab": {
          "base_uri": "https://localhost:8080/",
          "height": 268
        },
        "outputId": "6682f969-c5bf-4d96-b6f3-18ebd7160dcf"
      },
      "source": [
        "plt.plot(predictors[outcomes == 0][:,0],predictors[outcomes==0][:,1],\"ro\")\n",
        "plt.plot(predictors[outcomes == 1][:,0],predictors[outcomes==1][:,1],\"go\")\n",
        "plt.plot(predictors[outcomes == 2][:,0],predictors[outcomes==2][:,1],\"bo\")\n",
        "plt.savefig(\"iris.pdf\")"
      ],
      "execution_count": 68,
      "outputs": [
        {
          "output_type": "display_data",
          "data": {
            "image/png": "[encoded data removed]",
            "text/plain": [
              "<Figure size 432x288 with 1 Axes>"
            ]
          },
          "metadata": {
            "tags": [],
            "needs_background": "light"
          }
        }
      ]
    },
    {
      "cell_type": "code",
      "metadata": {
        "id": "O59gn3fxca8o",
        "colab_type": "code",
        "colab": {
          "base_uri": "https://localhost:8080/",
          "height": 589
        },
        "outputId": "210d487c-6e5b-42fb-b021-bc292cf76d07"
      },
      "source": [
        "k=5;filename=\"iris_grid.pdf\";limits=(4,8,1.5,4.5);h=0.1\n",
        "(xx,yy,prediction_grid) = make_prediction_grid(predictors,outcomes,limits,h,k)\n",
        "plot_prediction_grid(xx,yy,prediction_grid,filename)"
      ],
      "execution_count": 69,
      "outputs": [
        {
          "output_type": "display_data",
          "data": {
            "image/png": "[encoded data removed]",
            "text/plain": [
              "<Figure size 720x720 with 1 Axes>"
            ]
          },
          "metadata": {
            "tags": []
          }
        }
      ]
    },
    {
      "cell_type": "code",
      "metadata": {
        "id": "jf_HvEcfdDh6",
        "colab_type": "code",
        "colab": {}
      },
      "source": [
        "from sklearn.neighbors import KNeighborsClassifier\n",
        "knn = KNeighborsClassifier(n_neighbors=5)\n",
        "knn.fit(predictors,outcomes)\n",
        "sk_predictions = knn.predict(predictors)"
      ],
      "execution_count": 0,
      "outputs": []
    },
    {
      "cell_type": "code",
      "metadata": {
        "id": "RNoDPmgxdyxh",
        "colab_type": "code",
        "colab": {
          "base_uri": "https://localhost:8080/",
          "height": 34
        },
        "outputId": "144fa525-556a-4bfd-e50c-31bb426ae0ce"
      },
      "source": [
        "sk_predictions.shape"
      ],
      "execution_count": 75,
      "outputs": [
        {
          "output_type": "execute_result",
          "data": {
            "text/plain": [
              "(150,)"
            ]
          },
          "metadata": {
            "tags": []
          },
          "execution_count": 75
        }
      ]
    },
    {
      "cell_type": "code",
      "metadata": {
        "id": "PbGPea7ceJ6Q",
        "colab_type": "code",
        "colab": {}
      },
      "source": [
        "my_predictions = np.array([knn_predict(p,predictors,outcomes,5) for p in predictors])"
      ],
      "execution_count": 0,
      "outputs": []
    },
    {
      "cell_type": "code",
      "metadata": {
        "id": "6IFNjiIMeXQu",
        "colab_type": "code",
        "colab": {
          "base_uri": "https://localhost:8080/",
          "height": 68
        },
        "outputId": "7d95388e-85f2-408e-c0b4-ae1fdba36c7d"
      },
      "source": [
        "print(100*np.mean(sk_predictions == my_predictions))\n",
        "print(100*np.mean(sk_predictions == outcomes))\n",
        "print(100*np.mean(my_predictions == outcomes))\n"
      ],
      "execution_count": 79,
      "outputs": [
        {
          "output_type": "stream",
          "text": [
            "96.0\n",
            "83.33333333333334\n",
            "84.66666666666667\n"
          ],
          "name": "stdout"
        }
      ]
    }
  ]
}